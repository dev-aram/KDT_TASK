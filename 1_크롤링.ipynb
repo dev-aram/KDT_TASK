{
  "nbformat": 4,
  "nbformat_minor": 0,
  "metadata": {
    "colab": {
      "provenance": [],
      "authorship_tag": "ABX9TyMdyEcStoO2bpXs1aa2fgC+",
      "include_colab_link": true
    },
    "kernelspec": {
      "name": "python3",
      "display_name": "Python 3"
    },
    "language_info": {
      "name": "python"
    }
  },
  "cells": [
    {
      "cell_type": "markdown",
      "metadata": {
        "id": "view-in-github",
        "colab_type": "text"
      },
      "source": [
        "<a href=\"https://colab.research.google.com/github/dev-aram/KDT_TASK/blob/master/1_%ED%81%AC%EB%A1%A4%EB%A7%81.ipynb\" target=\"_parent\"><img src=\"https://colab.research.google.com/assets/colab-badge.svg\" alt=\"Open In Colab\"/></a>"
      ]
    },
    {
      "cell_type": "markdown",
      "source": [
        "# 1. 크롤링과 스크레이핑\n",
        "* 크롤링(Crawling): 인터넷의 데이터를 활용하기 위해 정보들을 분석하고 활용할 수 있도록 수집하는 행위\n",
        "\n",
        "* 스크레이핑(Scraping): 크롤링 + 데이터를 추출하고 가공하는 행위를 포함한게 스크레이핑이다."
      ],
      "metadata": {
        "id": "Mre9eTfpYwuf"
      }
    },
    {
      "cell_type": "markdown",
      "source": [
        "# 2. Basic English Speaking"
      ],
      "metadata": {
        "id": "OHAXCZQSZO6q"
      }
    },
    {
      "cell_type": "code",
      "source": [
        "import requests # 웹사이트에 특정페이지를 요청하고 응답받아서 가지고오는 역할을 하는 라이브러리\n",
        "from bs4 import BeautifulSoup # 가지고온 html, js, css를 내가 원하는대로 파싱(꺼내준다, 분해해준다)해주는 역할을 한다."
      ],
      "metadata": {
        "id": "1BAFwW54a_xU"
      },
      "execution_count": 1,
      "outputs": []
    },
    {
      "cell_type": "code",
      "source": [
        "site = \"https://basicenglishspeaking.com/daily-english-conversation-topics/\" #가지고올 사이트 주소\n",
        "request = requests.get(site)\n",
        "print(request) # 정상적인 응답\n",
        "# print(request.text) # html을 가지고옴"
      ],
      "metadata": {
        "colab": {
          "base_uri": "https://localhost:8080/"
        },
        "id": "iXgPaat7bRSz",
        "outputId": "5a1b7544-9e49-4530-b628-5a4523445c23"
      },
      "execution_count": null,
      "outputs": [
        {
          "output_type": "stream",
          "name": "stdout",
          "text": [
            "<Response [200]>\n"
          ]
        }
      ]
    },
    {
      "cell_type": "code",
      "source": [
        "soup = BeautifulSoup(request.text)"
      ],
      "metadata": {
        "id": "XN5iPYrAbz5T"
      },
      "execution_count": null,
      "outputs": []
    },
    {
      "cell_type": "code",
      "source": [
        "divs = soup.find('div', {'class': 'thrv-columns'}) # 내가 원하는 선택자에 의해서 데이터를 한개만 찾아오는 함수, findAll은 여러개\n",
        "print(divs)"
      ],
      "metadata": {
        "colab": {
          "base_uri": "https://localhost:8080/"
        },
        "id": "xv_eQgJqc3fb",
        "outputId": "bfff3cee-31fb-41b8-baf8-951aca69ec5c"
      },
      "execution_count": null,
      "outputs": [
        {
          "output_type": "stream",
          "name": "stdout",
          "text": [
            "<div class=\"thrv_wrapper thrv-columns\" style=\"--tcb-col-el-width:792;\"><div class=\"tcb-flex-row tcb--cols--3\"><div class=\"tcb-flex-col\"><div class=\"tcb-col\"><div class=\"thrv_wrapper thrv_text_element\"><p>1. <a class=\"tve-froala\" href=\"https://basicenglishspeaking.com/family/\" style=\"outline: none;\">Family</a><br/>2. <a class=\"tve-froala\" href=\"https://basicenglishspeaking.com/restaurant/\" style=\"outline: none;\">Restaurant</a><br/>3. <a href=\"https://basicenglishspeaking.com/books/\">Books</a><br/>4. <a href=\"https://basicenglishspeaking.com/travel/\">Travel</a><br/>5. <a href=\"https://basicenglishspeaking.com/website/\">Website</a><br/>6. <a href=\"https://basicenglishspeaking.com/accident/\">Accident</a><br/>7. <a class=\"tve-froala\" href=\"https://basicenglishspeaking.com/childhood-memory/\" style=\"outline: none;\">Childhood memory</a><br/>8. <a class=\"tve-froala\" href=\"https://basicenglishspeaking.com/favorite-rooms/\" style=\"outline: none;\">Favorite rooms</a><br/>9. <a href=\"https://basicenglishspeaking.com/presents/\">Presents</a><br/>10. <a class=\"tve-froala\" href=\"https://basicenglishspeaking.com/historical-place/\" style=\"outline: none;\">Historical place</a><br/>11. <a class=\"tve-froala\" href=\"https://basicenglishspeaking.com/newspaper-magazine/\" style=\"outline: none;\">Newspaper/ Magazine</a><br/>12. <a href=\"https://basicenglishspeaking.com/an-event/\">A memorable event</a><br/>13. <a href=\"https://basicenglishspeaking.com/a-subject/\">A favorite subject</a><br/>14. <a href=\"https://basicenglishspeaking.com/a-museum/\">A museum</a><br/>15. <a href=\"https://basicenglishspeaking.com/a-movie/\">A favorite movie</a><br/>16. <a href=\"https://basicenglishspeaking.com/a-foreign-country/\">A foreign country</a><br/>17. <a href=\"https://basicenglishspeaking.com/parties/\">Parties</a><br/>18. <a href=\"https://basicenglishspeaking.com/a-teacher/\">A teacher</a><br/>19. <a href=\"https://basicenglishspeaking.com/a-friend/\">A friend</a><br/>20. <a href=\"https://basicenglishspeaking.com/a-hotel/\">A hotel</a><br/>21. <a href=\"https://basicenglishspeaking.com/a-letter/\">A letter</a><br/>22. <a href=\"https://basicenglishspeaking.com/hobbies/\">Hobbies</a><br/>23. <a href=\"https://basicenglishspeaking.com/music/\">Music</a><br/>24. <a href=\"https://basicenglishspeaking.com/shopping/\">Shopping</a><br/>25. <a href=\"https://basicenglishspeaking.com/holiday/\">Holiday</a></p></div></div></div><div class=\"tcb-flex-col\"><div class=\"tcb-col\"><div class=\"thrv_wrapper thrv_text_element\"><p>26. <a class=\"tve-froala\" href=\"https://basicenglishspeaking.com/animals/\" style=\"outline: none;\">Animals</a><br/>27. <a class=\"tve-froala\" href=\"https://basicenglishspeaking.com/a-practical-skill/\" style=\"outline: none;\">A practical skill</a><br/>28. <a href=\"https://basicenglishspeaking.com/sports/\">Sport</a><br/>29. <a href=\"https://basicenglishspeaking.com/a-school/\">A School</a><br/>30. <a href=\"https://basicenglishspeaking.com/festival/\">Festival</a><br/>31. <a href=\"https://basicenglishspeaking.com/food/\">Food</a><br/>32. <a href=\"https://basicenglishspeaking.com/household-appliance/\">Household appliance</a><br/>33. <a href=\"https://basicenglishspeaking.com/a-music-band/\">A music band</a><br/>34. <a href=\"https://basicenglishspeaking.com/weather/\">Weather</a><br/>35. <a href=\"https://basicenglishspeaking.com/neighbor/\">Neighbor</a><br/>36. <a href=\"https://basicenglishspeaking.com/natural-scenery/\">Natural scenery</a><br/>37. <a href=\"https://basicenglishspeaking.com/outdoor-activities/\">Outdoor activities</a><br/>38. <a href=\"https://basicenglishspeaking.com/law/\">Law</a><br/>39. <a href=\"https://basicenglishspeaking.com/pollution/\">Pollution</a><br/>40. <a href=\"https://basicenglishspeaking.com/traffic-jam/\">Traffic jam</a><br/>41. <a href=\"https://basicenglishspeaking.com/tv-program/\">TV program</a><br/>42. <a href=\"https://basicenglishspeaking.com/architecture-building/\">Architect/ Building</a><br/>43. <a href=\"https://basicenglishspeaking.com/electronic-media/\">Electronic Media</a><br/>44. <a href=\"https://basicenglishspeaking.com/job-career/\">Job/ Career</a><br/>45. <a href=\"https://basicenglishspeaking.com/competition-contest/\">Competition/ contest</a><br/>46. <a href=\"https://basicenglishspeaking.com/a-garden/\">A garden</a><br/>47. <a href=\"https://basicenglishspeaking.com/hometown/\">Hometown</a><br/>48. <a href=\"https://basicenglishspeaking.com/clothing/\">Clothing</a><br/>49. <a href=\"https://basicenglishspeaking.com/an-advertisement/\">Advertisement</a><br/>50. <a href=\"https://basicenglishspeaking.com/a-project/\">A project</a></p></div></div></div><div class=\"tcb-flex-col\"><div class=\"tcb-col\"><div class=\"thrv_wrapper thrv_text_element\"><p>51. <a href=\"https://basicenglishspeaking.com/a-wedding/\">A wedding</a><br/>52. <a href=\"https://basicenglishspeaking.com/a-coffee-shop/\">A Coffee shop</a><br/>53. <a href=\"https://basicenglishspeaking.com/culture/\">Culture</a><br/>54. <a href=\"https://basicenglishspeaking.com/transport/\">Transport</a><br/>55. <a href=\"https://basicenglishspeaking.com/politician/\">Politician</a><br/>56. <a href=\"https://basicenglishspeaking.com/communication/\">Communication</a><br/>57. <a href=\"https://basicenglishspeaking.com/business/\">Business</a><br/>58. <a href=\"https://basicenglishspeaking.com/computer/\">Computer</a><br/>59. <a href=\"https://basicenglishspeaking.com/exercise/\">Exercise</a><br/>60. <a href=\"https://basicenglishspeaking.com/goal-ambition/\">Goal/ ambition</a><br/>61. <a href=\"https://basicenglishspeaking.com/art/\">Art</a><br/>62. <a href=\"https://basicenglishspeaking.com/fashion/\">Fashion</a><br/>63. <a href=\"https://basicenglishspeaking.com/jewelry/\">Jewelry</a><br/>64. <a href=\"https://basicenglishspeaking.com/cosmetic/\">Cosmetic</a><br/>65. <a href=\"https://basicenglishspeaking.com/indoor-game/\">Indoor Game</a><br/>66. <a href=\"https://basicenglishspeaking.com/phone-conversation/\">Phone conversation</a><br/>67. <a href=\"https://basicenglishspeaking.com/learning-second-language/\">Learning A Second language</a><br/>68. <a href=\"https://basicenglishspeaking.com/a-creative-person/\">A Creative Person</a><br/>69. <a href=\"https://basicenglishspeaking.com/a-celebrity/\">A celebrity</a><br/>70. <a href=\"https://basicenglishspeaking.com/a-health-problem/\">A Health Problem</a><br/>71. <a href=\"https://basicenglishspeaking.com/technological-advancements/\">Technological advancements</a><br/>72. <a href=\"https://basicenglishspeaking.com/a-landmark/\">A Landmark</a><br/>73. <a href=\"https://basicenglishspeaking.com/handcraft-items/\">Handcraft Items</a><br/>74. <a href=\"https://basicenglishspeaking.com/plastic-surgery/\">Plastic Surgery</a><br/>75. <a href=\"https://basicenglishspeaking.com/success/\">Success</a></p></div></div></div></div></div>\n"
          ]
        }
      ]
    },
    {
      "cell_type": "code",
      "source": [
        "links = divs.findAll('a') # 위 divs에서 a태그만 찾아온다.\n",
        "print(links)"
      ],
      "metadata": {
        "colab": {
          "base_uri": "https://localhost:8080/"
        },
        "id": "So5b3zJ5dvlG",
        "outputId": "97e8a9f0-1fc1-4c76-d06b-173b85be9abe"
      },
      "execution_count": null,
      "outputs": [
        {
          "output_type": "stream",
          "name": "stdout",
          "text": [
            "[<a class=\"tve-froala\" href=\"https://basicenglishspeaking.com/family/\" style=\"outline: none;\">Family</a>, <a class=\"tve-froala\" href=\"https://basicenglishspeaking.com/restaurant/\" style=\"outline: none;\">Restaurant</a>, <a href=\"https://basicenglishspeaking.com/books/\">Books</a>, <a href=\"https://basicenglishspeaking.com/travel/\">Travel</a>, <a href=\"https://basicenglishspeaking.com/website/\">Website</a>, <a href=\"https://basicenglishspeaking.com/accident/\">Accident</a>, <a class=\"tve-froala\" href=\"https://basicenglishspeaking.com/childhood-memory/\" style=\"outline: none;\">Childhood memory</a>, <a class=\"tve-froala\" href=\"https://basicenglishspeaking.com/favorite-rooms/\" style=\"outline: none;\">Favorite rooms</a>, <a href=\"https://basicenglishspeaking.com/presents/\">Presents</a>, <a class=\"tve-froala\" href=\"https://basicenglishspeaking.com/historical-place/\" style=\"outline: none;\">Historical place</a>, <a class=\"tve-froala\" href=\"https://basicenglishspeaking.com/newspaper-magazine/\" style=\"outline: none;\">Newspaper/ Magazine</a>, <a href=\"https://basicenglishspeaking.com/an-event/\">A memorable event</a>, <a href=\"https://basicenglishspeaking.com/a-subject/\">A favorite subject</a>, <a href=\"https://basicenglishspeaking.com/a-museum/\">A museum</a>, <a href=\"https://basicenglishspeaking.com/a-movie/\">A favorite movie</a>, <a href=\"https://basicenglishspeaking.com/a-foreign-country/\">A foreign country</a>, <a href=\"https://basicenglishspeaking.com/parties/\">Parties</a>, <a href=\"https://basicenglishspeaking.com/a-teacher/\">A teacher</a>, <a href=\"https://basicenglishspeaking.com/a-friend/\">A friend</a>, <a href=\"https://basicenglishspeaking.com/a-hotel/\">A hotel</a>, <a href=\"https://basicenglishspeaking.com/a-letter/\">A letter</a>, <a href=\"https://basicenglishspeaking.com/hobbies/\">Hobbies</a>, <a href=\"https://basicenglishspeaking.com/music/\">Music</a>, <a href=\"https://basicenglishspeaking.com/shopping/\">Shopping</a>, <a href=\"https://basicenglishspeaking.com/holiday/\">Holiday</a>, <a class=\"tve-froala\" href=\"https://basicenglishspeaking.com/animals/\" style=\"outline: none;\">Animals</a>, <a class=\"tve-froala\" href=\"https://basicenglishspeaking.com/a-practical-skill/\" style=\"outline: none;\">A practical skill</a>, <a href=\"https://basicenglishspeaking.com/sports/\">Sport</a>, <a href=\"https://basicenglishspeaking.com/a-school/\">A School</a>, <a href=\"https://basicenglishspeaking.com/festival/\">Festival</a>, <a href=\"https://basicenglishspeaking.com/food/\">Food</a>, <a href=\"https://basicenglishspeaking.com/household-appliance/\">Household appliance</a>, <a href=\"https://basicenglishspeaking.com/a-music-band/\">A music band</a>, <a href=\"https://basicenglishspeaking.com/weather/\">Weather</a>, <a href=\"https://basicenglishspeaking.com/neighbor/\">Neighbor</a>, <a href=\"https://basicenglishspeaking.com/natural-scenery/\">Natural scenery</a>, <a href=\"https://basicenglishspeaking.com/outdoor-activities/\">Outdoor activities</a>, <a href=\"https://basicenglishspeaking.com/law/\">Law</a>, <a href=\"https://basicenglishspeaking.com/pollution/\">Pollution</a>, <a href=\"https://basicenglishspeaking.com/traffic-jam/\">Traffic jam</a>, <a href=\"https://basicenglishspeaking.com/tv-program/\">TV program</a>, <a href=\"https://basicenglishspeaking.com/architecture-building/\">Architect/ Building</a>, <a href=\"https://basicenglishspeaking.com/electronic-media/\">Electronic Media</a>, <a href=\"https://basicenglishspeaking.com/job-career/\">Job/ Career</a>, <a href=\"https://basicenglishspeaking.com/competition-contest/\">Competition/ contest</a>, <a href=\"https://basicenglishspeaking.com/a-garden/\">A garden</a>, <a href=\"https://basicenglishspeaking.com/hometown/\">Hometown</a>, <a href=\"https://basicenglishspeaking.com/clothing/\">Clothing</a>, <a href=\"https://basicenglishspeaking.com/an-advertisement/\">Advertisement</a>, <a href=\"https://basicenglishspeaking.com/a-project/\">A project</a>, <a href=\"https://basicenglishspeaking.com/a-wedding/\">A wedding</a>, <a href=\"https://basicenglishspeaking.com/a-coffee-shop/\">A Coffee shop</a>, <a href=\"https://basicenglishspeaking.com/culture/\">Culture</a>, <a href=\"https://basicenglishspeaking.com/transport/\">Transport</a>, <a href=\"https://basicenglishspeaking.com/politician/\">Politician</a>, <a href=\"https://basicenglishspeaking.com/communication/\">Communication</a>, <a href=\"https://basicenglishspeaking.com/business/\">Business</a>, <a href=\"https://basicenglishspeaking.com/computer/\">Computer</a>, <a href=\"https://basicenglishspeaking.com/exercise/\">Exercise</a>, <a href=\"https://basicenglishspeaking.com/goal-ambition/\">Goal/ ambition</a>, <a href=\"https://basicenglishspeaking.com/art/\">Art</a>, <a href=\"https://basicenglishspeaking.com/fashion/\">Fashion</a>, <a href=\"https://basicenglishspeaking.com/jewelry/\">Jewelry</a>, <a href=\"https://basicenglishspeaking.com/cosmetic/\">Cosmetic</a>, <a href=\"https://basicenglishspeaking.com/indoor-game/\">Indoor Game</a>, <a href=\"https://basicenglishspeaking.com/phone-conversation/\">Phone conversation</a>, <a href=\"https://basicenglishspeaking.com/learning-second-language/\">Learning A Second language</a>, <a href=\"https://basicenglishspeaking.com/a-creative-person/\">A Creative Person</a>, <a href=\"https://basicenglishspeaking.com/a-celebrity/\">A celebrity</a>, <a href=\"https://basicenglishspeaking.com/a-health-problem/\">A Health Problem</a>, <a href=\"https://basicenglishspeaking.com/technological-advancements/\">Technological advancements</a>, <a href=\"https://basicenglishspeaking.com/a-landmark/\">A Landmark</a>, <a href=\"https://basicenglishspeaking.com/handcraft-items/\">Handcraft Items</a>, <a href=\"https://basicenglishspeaking.com/plastic-surgery/\">Plastic Surgery</a>, <a href=\"https://basicenglishspeaking.com/success/\">Success</a>]\n"
          ]
        }
      ]
    },
    {
      "cell_type": "code",
      "source": [
        "for link in links:\n",
        "    print(link.text) # 링크 안에있는 텍스트만 뽑아서 출력"
      ],
      "metadata": {
        "colab": {
          "base_uri": "https://localhost:8080/"
        },
        "id": "dW0_EsTSd6vQ",
        "outputId": "0edd745f-7fd3-42d9-8771-3f3baff209c2"
      },
      "execution_count": null,
      "outputs": [
        {
          "output_type": "stream",
          "name": "stdout",
          "text": [
            "Family\n",
            "Restaurant\n",
            "Books\n",
            "Travel\n",
            "Website\n",
            "Accident\n",
            "Childhood memory\n",
            "Favorite rooms\n",
            "Presents\n",
            "Historical place\n",
            "Newspaper/ Magazine\n",
            "A memorable event\n",
            "A favorite subject\n",
            "A museum\n",
            "A favorite movie\n",
            "A foreign country\n",
            "Parties\n",
            "A teacher\n",
            "A friend\n",
            "A hotel\n",
            "A letter\n",
            "Hobbies\n",
            "Music\n",
            "Shopping\n",
            "Holiday\n",
            "Animals\n",
            "A practical skill\n",
            "Sport\n",
            "A School\n",
            "Festival\n",
            "Food\n",
            "Household appliance\n",
            "A music band\n",
            "Weather\n",
            "Neighbor\n",
            "Natural scenery\n",
            "Outdoor activities\n",
            "Law\n",
            "Pollution\n",
            "Traffic jam\n",
            "TV program\n",
            "Architect/ Building\n",
            "Electronic Media\n",
            "Job/ Career\n",
            "Competition/ contest\n",
            "A garden\n",
            "Hometown\n",
            "Clothing\n",
            "Advertisement\n",
            "A project\n",
            "A wedding\n",
            "A Coffee shop\n",
            "Culture\n",
            "Transport\n",
            "Politician\n",
            "Communication\n",
            "Business\n",
            "Computer\n",
            "Exercise\n",
            "Goal/ ambition\n",
            "Art\n",
            "Fashion\n",
            "Jewelry\n",
            "Cosmetic\n",
            "Indoor Game\n",
            "Phone conversation\n",
            "Learning A Second language\n",
            "A Creative Person\n",
            "A celebrity\n",
            "A Health Problem\n",
            "Technological advancements\n",
            "A Landmark\n",
            "Handcraft Items\n",
            "Plastic Surgery\n",
            "Success\n"
          ]
        }
      ]
    },
    {
      "cell_type": "code",
      "source": [
        "subject = []\n",
        "for link in links:\n",
        "    subject.append(link.text)"
      ],
      "metadata": {
        "id": "HhfLmmn5eOMS"
      },
      "execution_count": null,
      "outputs": []
    },
    {
      "cell_type": "code",
      "source": [
        "print(subject)"
      ],
      "metadata": {
        "colab": {
          "base_uri": "https://localhost:8080/"
        },
        "id": "G9p9IjzFef8C",
        "outputId": "3100f355-add3-4842-875a-2cebb69a93c6"
      },
      "execution_count": null,
      "outputs": [
        {
          "output_type": "stream",
          "name": "stdout",
          "text": [
            "['Family', 'Restaurant', 'Books', 'Travel', 'Website', 'Accident', 'Childhood memory', 'Favorite rooms', 'Presents', 'Historical place', 'Newspaper/ Magazine', 'A memorable event', 'A favorite subject', 'A museum', 'A favorite movie', 'A foreign country', 'Parties', 'A teacher', 'A friend', 'A hotel', 'A letter', 'Hobbies', 'Music', 'Shopping', 'Holiday', 'Animals', 'A practical skill', 'Sport', 'A School', 'Festival', 'Food', 'Household appliance', 'A music band', 'Weather', 'Neighbor', 'Natural scenery', 'Outdoor activities', 'Law', 'Pollution', 'Traffic jam', 'TV program', 'Architect/ Building', 'Electronic Media', 'Job/ Career', 'Competition/ contest', 'A garden', 'Hometown', 'Clothing', 'Advertisement', 'A project', 'A wedding', 'A Coffee shop', 'Culture', 'Transport', 'Politician', 'Communication', 'Business', 'Computer', 'Exercise', 'Goal/ ambition', 'Art', 'Fashion', 'Jewelry', 'Cosmetic', 'Indoor Game', 'Phone conversation', 'Learning A Second language', 'A\\xa0Creative Person', 'A celebrity', 'A Health Problem', 'Technological advancements', 'A Landmark', 'Handcraft Items', 'Plastic Surgery', 'Success']\n"
          ]
        }
      ]
    },
    {
      "cell_type": "code",
      "source": [
        "print('총', len(subject), '개의 주제를 찾았습니다')\n",
        "for i in range(len(subject)):\n",
        "    print('{0:2d}, {1:s}'.format(i+1, subject[i]))"
      ],
      "metadata": {
        "colab": {
          "base_uri": "https://localhost:8080/"
        },
        "id": "9Y-VWccDeiUD",
        "outputId": "98b9fdea-41e1-4f0f-c860-21bff89a5d67"
      },
      "execution_count": null,
      "outputs": [
        {
          "output_type": "stream",
          "name": "stdout",
          "text": [
            "총 75 개의 주제를 찾았습니다\n",
            " 1, Family\n",
            " 2, Restaurant\n",
            " 3, Books\n",
            " 4, Travel\n",
            " 5, Website\n",
            " 6, Accident\n",
            " 7, Childhood memory\n",
            " 8, Favorite rooms\n",
            " 9, Presents\n",
            "10, Historical place\n",
            "11, Newspaper/ Magazine\n",
            "12, A memorable event\n",
            "13, A favorite subject\n",
            "14, A museum\n",
            "15, A favorite movie\n",
            "16, A foreign country\n",
            "17, Parties\n",
            "18, A teacher\n",
            "19, A friend\n",
            "20, A hotel\n",
            "21, A letter\n",
            "22, Hobbies\n",
            "23, Music\n",
            "24, Shopping\n",
            "25, Holiday\n",
            "26, Animals\n",
            "27, A practical skill\n",
            "28, Sport\n",
            "29, A School\n",
            "30, Festival\n",
            "31, Food\n",
            "32, Household appliance\n",
            "33, A music band\n",
            "34, Weather\n",
            "35, Neighbor\n",
            "36, Natural scenery\n",
            "37, Outdoor activities\n",
            "38, Law\n",
            "39, Pollution\n",
            "40, Traffic jam\n",
            "41, TV program\n",
            "42, Architect/ Building\n",
            "43, Electronic Media\n",
            "44, Job/ Career\n",
            "45, Competition/ contest\n",
            "46, A garden\n",
            "47, Hometown\n",
            "48, Clothing\n",
            "49, Advertisement\n",
            "50, A project\n",
            "51, A wedding\n",
            "52, A Coffee shop\n",
            "53, Culture\n",
            "54, Transport\n",
            "55, Politician\n",
            "56, Communication\n",
            "57, Business\n",
            "58, Computer\n",
            "59, Exercise\n",
            "60, Goal/ ambition\n",
            "61, Art\n",
            "62, Fashion\n",
            "63, Jewelry\n",
            "64, Cosmetic\n",
            "65, Indoor Game\n",
            "66, Phone conversation\n",
            "67, Learning A Second language\n",
            "68, A Creative Person\n",
            "69, A celebrity\n",
            "70, A Health Problem\n",
            "71, Technological advancements\n",
            "72, A Landmark\n",
            "73, Handcraft Items\n",
            "74, Plastic Surgery\n",
            "75, Success\n"
          ]
        }
      ]
    },
    {
      "cell_type": "markdown",
      "source": [
        "# 3. 뉴스기사"
      ],
      "metadata": {
        "id": "rhL59IEYfZph"
      }
    },
    {
      "cell_type": "code",
      "source": [
        "# https://v.daum.net/v/20231122093006934 다음뉴스기사 패턴\n",
        "# https://v.daum.net/v/20231122091405304\n",
        "# https://v.daum.net/v/20231122063019920\n",
        "\n",
        "# 제목을 크롤링해오는 함수 제작\n",
        "\n",
        "def daum_news_title(news_id):\n",
        "    url = 'https://v.daum.net/v/{}'.format(news_id)\n",
        "    request = requests.get(url) #접속\n",
        "    soup = BeautifulSoup(request.text)\n",
        "    title = soup.find('h3',{'class':'tit_view'})\n",
        "\n",
        "    if title:\n",
        "        return title.text.strip()\n",
        "    return '제목없음'"
      ],
      "metadata": {
        "id": "10XahVOhfb_m"
      },
      "execution_count": null,
      "outputs": []
    },
    {
      "cell_type": "code",
      "source": [
        "daum_news_title('20231122093006934')"
      ],
      "metadata": {
        "colab": {
          "base_uri": "https://localhost:8080/",
          "height": 36
        },
        "id": "ghplX7dDgfy6",
        "outputId": "5e31248a-4aa4-4400-8ab8-e22c834c3e30"
      },
      "execution_count": null,
      "outputs": [
        {
          "output_type": "execute_result",
          "data": {
            "text/plain": [
              "'렉서스, 2023 일본 모빌리티 쇼에서 전동화 플래그십 컨셉 ‘LF-LZ’ 공개'"
            ],
            "application/vnd.google.colaboratory.intrinsic+json": {
              "type": "string"
            }
          },
          "metadata": {},
          "execution_count": 24
        }
      ]
    },
    {
      "cell_type": "code",
      "source": [
        "daum_news_title('20231122091405304')"
      ],
      "metadata": {
        "colab": {
          "base_uri": "https://localhost:8080/",
          "height": 36
        },
        "id": "HLcwTUXHgrWu",
        "outputId": "2b03f4de-5b48-4f16-9f70-8004ff0bf363"
      },
      "execution_count": null,
      "outputs": [
        {
          "output_type": "execute_result",
          "data": {
            "text/plain": [
              "'\"10월 거래량 확 줄었네\"…신고가·신저가 1위 모두 \\'분당\\''"
            ],
            "application/vnd.google.colaboratory.intrinsic+json": {
              "type": "string"
            }
          },
          "metadata": {},
          "execution_count": 25
        }
      ]
    },
    {
      "cell_type": "markdown",
      "source": [
        "4. 벅스 뮤직 차트"
      ],
      "metadata": {
        "id": "w0xQgPH6g5gg"
      }
    },
    {
      "cell_type": "code",
      "source": [
        "def bugs_chart():\n",
        "    url = 'https://music.bugs.co.kr/chart/track/realtime/total?wl_ref=M_contents_03_01'\n",
        "    request = requests.get(url)\n",
        "    soup = BeautifulSoup(request.text)\n",
        "    # titles = soup.findAll('p',{'class':'title'},'a')\n",
        "    titles = soup.select('p.title > a')\n",
        "    # artists = soup.findAll('p',{'class':'artist'},'a')\n",
        "    artists = soup.select('p.artist > a:nth-child(1)')\n",
        "\n",
        "    for i,(title, artist) in enumerate(zip(titles, artists)):\n",
        "        print(f'{i+1}위 {title.text.strip()} - {artist.text.strip()}')\n",
        "        # ranks[title.text.strip()] = artist.text.strip()\n",
        "\n",
        "    # for i, (key, value) in enumerate(ranks.items()):\n",
        "    #     print(f'{i+1}위 {value} - {key}')"
      ],
      "metadata": {
        "id": "BXCEwA3-jssn"
      },
      "execution_count": null,
      "outputs": []
    },
    {
      "cell_type": "code",
      "source": [
        "bugs_chart()"
      ],
      "metadata": {
        "id": "2ZJgYbDVk0xB"
      },
      "execution_count": null,
      "outputs": []
    },
    {
      "cell_type": "markdown",
      "source": [
        "# 멜론 차트\n",
        "* robots.txt: 웹 사이트에 크롤러같은 로봇들의 접근을 제어하기 위한 규약(권고안이라 꼭 지킬 의무는 없음)\n",
        "\n"
      ],
      "metadata": {
        "id": "2ubc8SMMk1rr"
      }
    },
    {
      "cell_type": "code",
      "source": [
        "request = requests.get(\"https://www.melon.com/chart/\")\n",
        "print(request) # <Response [406]>"
      ],
      "metadata": {
        "colab": {
          "base_uri": "https://localhost:8080/"
        },
        "id": "lK-mSVc6vthJ",
        "outputId": "45d532e0-cdd7-400a-e71b-cb9e020a3523"
      },
      "execution_count": null,
      "outputs": [
        {
          "output_type": "stream",
          "name": "stdout",
          "text": [
            "<Response [406]>\n"
          ]
        }
      ]
    },
    {
      "cell_type": "code",
      "source": [
        "# User-Agent:\n",
        "# Mozilla/5.0 (Windows NT 10.0; Win64; x64) AppleWebKit/537.36 (KHTML, like Gecko) Chrome/118.0.0.0 Whale/3.23.214.10 Safari/537.36 헤더에있는 정보\n",
        "# https://www.melon.com/robots.txt 크롤링 허용 및 비허용범위\n",
        "header = {'User-Agent': 'Mozilla/5.0 (Windows NT 10.0; Win64; x64)'}\n",
        "request = requests.get(\"https://www.melon.com/chart/\", headers=header)\n",
        "print(request) # <Response [200]>"
      ],
      "metadata": {
        "colab": {
          "base_uri": "https://localhost:8080/"
        },
        "id": "o8SfD_RLwuf3",
        "outputId": "095b4acd-11a7-4e1b-f18a-78d3c2a3a9b2"
      },
      "execution_count": null,
      "outputs": [
        {
          "output_type": "stream",
          "name": "stdout",
          "text": [
            "<Response [200]>\n"
          ]
        }
      ]
    },
    {
      "cell_type": "code",
      "source": [
        "soup = BeautifulSoup(request.text)\n",
        "titles = soup.findAll('div', {'class':'rank01'}, 'a')\n",
        "artists = soup.findAll('span', {'class':'checkEllipsis'}, 'a')\n",
        "\n",
        "\n",
        "for i, (title, artist) in enumerate(zip(titles, artists)):\n",
        "    t = title.text.strip().replace('19금\\n','')\n",
        "    a = artist.text.strip()\n",
        "    print(f'{i+1}위 {t} - {a}')"
      ],
      "metadata": {
        "colab": {
          "base_uri": "https://localhost:8080/"
        },
        "id": "8tAHbeV_0YQn",
        "outputId": "21121b48-9fe8-4e3c-a756-d34a463d8f1b"
      },
      "execution_count": null,
      "outputs": [
        {
          "output_type": "stream",
          "name": "stdout",
          "text": [
            "1위 Perfect Night - LE SSERAFIM (르세라핌)\n",
            "2위 Baddie - IVE (아이브)\n",
            "3위 Drama - aespa\n",
            "4위 Seven (feat. Latto) - Clean Ver. - 정국\n",
            "5위 Love Lee - AKMU (악뮤)\n",
            "6위 사랑은 늘 도망가 - 임영웅\n",
            "7위 You & Me - 제니 (JENNIE)\n",
            "8위 Do or Die - 임영웅\n",
            "9위 후라이의 꿈 - AKMU (악뮤)\n",
            "10위 모래 알갱이 - 임영웅\n",
            "11위 우리들의 블루스 - 임영웅\n",
            "12위 Standing Next to You - 정국\n",
            "13위 헤어지자 말해요 - 박재정\n",
            "14위 다시 만날 수 있을까 - 임영웅\n",
            "15위 Either Way - IVE (아이브)\n",
            "16위 이제 나만 믿어요 - 임영웅\n",
            "17위 무지개 - 임영웅\n",
            "18위 Smoke (Prod. Dynamicduo, Padi) - 다이나믹 듀오, 이영지\n",
            "19위 London Boy - 임영웅\n",
            "20위 Polaroid - 임영웅\n",
            "21위 아버지 - 임영웅\n",
            "22위 인생찬가 - 임영웅\n",
            "23위 I AM - IVE (아이브)\n",
            "24위 A bientot - 임영웅\n",
            "25위 사막에서 꽃을 피우듯 - 우디 (Woody)\n",
            "26위 Super Shy - NewJeans\n",
            "27위 ETA - NewJeans\n",
            "28위 DIE 4 YOU - DEAN\n",
            "29위 음악의 신 - 세븐틴 (SEVENTEEN)\n",
            "30위 연애편지 - 임영웅\n",
            "31위 Chill Kill - Red Velvet (레드벨벳)\n",
            "32위 Fast Forward - 전소미\n",
            "33위 Get A Guitar - RIIZE\n",
            "34위 퀸카 (Queencard) - (여자)아이들\n",
            "35위 잠시라도 우리 - 성시경, 나얼\n",
            "36위 Hype Boy - NewJeans\n",
            "37위 3D (feat. Jack Harlow) - 정국\n",
            "38위 I Love My Body - 화사 (HWASA)\n",
            "39위 Off The Record - IVE (아이브)\n",
            "40위 그대만 있다면 (여름날 우리 X 너드커넥션 (Nerd Connection)) - 너드커넥션 (Nerd Connection)\n",
            "41위 Ditto - NewJeans\n",
            "42위 인사 - 범진\n",
            "43위 너의 모든 순간 - 성시경\n",
            "44위 잘 지내자, 우리 (여름날 우리 X 로이킴) - 로이킴\n",
            "45위 Bubble - STAYC(스테이씨)\n",
            "46위 Yes or No - 정국\n",
            "47위 별 떨어진다 (I Do) - 디오 (D.O.)\n",
            "48위 어떻게 이별까지 사랑하겠어, 널 사랑하는 거지 - AKMU (악뮤)\n",
            "49위 Dynamite - 방탄소년단\n",
            "50위 Spicy - aespa\n",
            "51위 이브, 프시케 그리고 푸른 수염의 아내 - LE SSERAFIM (르세라핌)\n",
            "52위 Kitsch - IVE (아이브)\n",
            "53위 사랑인가 봐 - 멜로망스\n",
            "54위 사건의 지평선 - 윤하 (YOUNHA)\n",
            "55위 사랑하지 않아서 그랬어 - 임한별\n",
            "56위 Steal The Show (From “엘리멘탈”) - Lauv\n",
            "57위 봄날 - 방탄소년단\n",
            "58위 Hate You - 정국\n",
            "59위 I Don't Think That I Like Her - Charlie Puth\n",
            "60위 물론 - 허각\n",
            "61위 Butter - 방탄소년단\n",
            "62위 손오공 - 세븐틴 (SEVENTEEN)\n",
            "63위 LOVE DIVE - IVE (아이브)\n",
            "64위 첫 눈 - EXO\n",
            "65위 취중고백 - 김민석 (멜로망스)\n",
            "66위 After LIKE - IVE (아이브)\n",
            "67위 OMG - NewJeans\n",
            "68위 심(心) - DK(디셈버)\n",
            "69위 주저하는 연인들을 위해 - 잔나비\n",
            "70위 파이팅 해야지 (Feat. 이영지) - 부석순 (SEVENTEEN)\n",
            "71위 GODS - NewJeans, League of Legends\n",
            "72위 Dangerously - Charlie Puth\n",
            "73위 나에게 그대만이 - 탑현\n",
            "74위 다정히 내 이름을 부르면 - 경서예지, 전건호\n",
            "75위 Still With You - 정국\n",
            "76위 Attention - NewJeans\n",
            "77위 UNFORGIVEN (feat. Nile Rodgers) - LE SSERAFIM (르세라핌)\n",
            "78위 밤, 바다 - 최유리\n",
            "79위 그중에 그대를 만나 - 김호중\n",
            "80위 Summer (Feat. BE’O (비오)) - Paul Blanco\n",
            "81위 지극히 사적인 얘기 - 다비치\n",
            "82위 해요 (2022) - #안녕\n",
            "83위 사랑..그게 뭔데 - 지아\n",
            "84위 폼미쳤다 - 영탁\n",
            "85위 STAY - The Kid LAROI, Justin Bieber\n",
            "86위 이쁜 여자가 좋더라 (Feat. Gist, Jayci yucca) - 릴러말즈 (Leellamarz)\n",
            "87위 All I Want for Christmas Is You - Mariah Carey\n",
            "88위 건물 사이에 피어난 장미 (Rose Blossom) - H1-KEY (하이키)\n",
            "89위 꽃 - 지수 (JISOO)\n",
            "90위 달빛에 그려지는 - 미연 ((여자)아이들)\n",
            "91위 사실말야내가말야그게그러니까말이야 - 케이시 (Kassy)\n",
            "92위 KIDDING - 이세계아이돌\n",
            "93위 New Jeans - NewJeans\n",
            "94위 Snowman - Sia\n",
            "95위 Too Sad to Dance - 정국\n",
            "96위 Teddy Bear - STAYC(스테이씨)\n",
            "97위 CAKE - ITZY (있지)\n",
            "98위 CRUSH (가시) - ZEROBASEONE (제로베이스원)\n",
            "99위 Santa Tell Me - Ariana Grande\n",
            "100위 Take Two - 방탄소년단\n"
          ]
        }
      ]
    },
    {
      "cell_type": "markdown",
      "source": [
        "# 6. 네이버증권"
      ],
      "metadata": {
        "id": "7vaOSRnJ2iI2"
      }
    },
    {
      "cell_type": "code",
      "source": [
        "# https://finance.naver.com/item/main.naver?code=004835\n",
        "# 가격, 이름, 종목코드 ,거래량\n",
        "# {'price':'100', 'name':'SK','code':'000', 'volum':'123'}\n",
        "\n",
        "\n",
        "finance = {}\n",
        "request = requests.get(\"https://finance.naver.com/item/main.naver?code=454910\")\n",
        "soup = BeautifulSoup(request.text)\n",
        "\n",
        "price = soup.select_one('p.no_today span.blind').text\n",
        "name = soup.select_one('.wrap_company h2 a').text\n",
        "code = soup.select_one('.wrap_company .code').text\n",
        "volum = soup.select_one('.sptxt.sp_txt9 + em .blind').text\n",
        "\n",
        "# find\n",
        "# ddd = soup.find('span', {'class':'sptxt sp_txt9'}).find_next_sibling().find('span',{'class':'blind'}).text\n",
        "\n",
        "finance['price'] = price\n",
        "finance['name'] = name\n",
        "finance['code'] = code\n",
        "finance['volum'] = volum\n",
        "\n",
        "print(finance)"
      ],
      "metadata": {
        "colab": {
          "base_uri": "https://localhost:8080/"
        },
        "id": "0hoU_ab_2qHn",
        "outputId": "6f1be345-b7d8-4ef3-f0de-6eb1f5f1acbf"
      },
      "execution_count": null,
      "outputs": [
        {
          "output_type": "stream",
          "name": "stdout",
          "text": [
            "{'price': '64,600', 'name': '두산로보틱스', 'code': '454910', 'volum': '9,574,493'}\n"
          ]
        }
      ]
    },
    {
      "cell_type": "code",
      "source": [
        "site = 'https://finance.naver.com/item/main.naver?code=454910'\n",
        "request = requests.get(site)\n",
        "soup = BeautifulSoup(request.text)\n",
        "\n",
        "div_totalinfo = soup.find('div',{'class':'new_totalinfo'})\n",
        "h2 = div_totalinfo.find('h2')\n",
        "name = h2.text"
      ],
      "metadata": {
        "id": "UO1bOL2STj4C"
      },
      "execution_count": null,
      "outputs": []
    },
    {
      "cell_type": "code",
      "source": [
        "no_today = div_totalinfo.find('p',{'class':'no_today'})\n",
        "price = no_today.find('span',{'class':'blind'}).text"
      ],
      "metadata": {
        "id": "CM_G0gekVejR"
      },
      "execution_count": null,
      "outputs": []
    },
    {
      "cell_type": "code",
      "source": [
        "div_discription = div_totalinfo.find('div',{'class':'description'})\n",
        "code = div_discription.find('span',{'class':'code'}).text\n",
        "print(code)"
      ],
      "metadata": {
        "colab": {
          "base_uri": "https://localhost:8080/"
        },
        "id": "p2DgNvmiVfOv",
        "outputId": "f7e9fd65-2e9c-47c9-98af-0fad0b588fbe"
      },
      "execution_count": null,
      "outputs": [
        {
          "output_type": "stream",
          "name": "stdout",
          "text": [
            "454910\n"
          ]
        }
      ]
    },
    {
      "cell_type": "code",
      "source": [
        "no_info = soup.find('table',{'class':'no_info'})\n",
        "td = no_info.findAll('td')\n",
        "volum = td[2].find('span',{'class':'blind'}).text"
      ],
      "metadata": {
        "id": "R2bkwnXrV1nK"
      },
      "execution_count": null,
      "outputs": []
    },
    {
      "cell_type": "code",
      "source": [
        "def naver_finance(code):\n",
        "    site = f'https://finance.naver.com/item/main.naver?code={code}'\n",
        "    request = requests.get(site)\n",
        "    soup = BeautifulSoup(request.text)\n",
        "\n",
        "    div_totalinfo = soup.find('div',{'class':'new_totalinfo'})\n",
        "    h2 = div_totalinfo.find('h2')\n",
        "    name = h2.text\n",
        "\n",
        "    no_today = div_totalinfo.find('p',{'class':'no_today'})\n",
        "    price = no_today.find('span',{'class':'blind'}).text\n",
        "\n",
        "    no_info = soup.find('table',{'class':'no_info'})\n",
        "    td = no_info.findAll('td')\n",
        "    volum = td[2].find('span',{'class':'blind'}).text\n",
        "\n",
        "    dic = {'price':price, 'name':name, 'code':code, 'volum':volum}\n",
        "    # dic['price'] = price\n",
        "    # dic['name'] = name\n",
        "    # dic['code'] = code\n",
        "    # dic['volum'] = volum\n",
        "    return dic"
      ],
      "metadata": {
        "id": "IJarqkdVXogJ"
      },
      "execution_count": null,
      "outputs": []
    },
    {
      "cell_type": "code",
      "source": [
        "naver_finance('035720')"
      ],
      "metadata": {
        "colab": {
          "base_uri": "https://localhost:8080/"
        },
        "id": "gCYfWPfuX7sY",
        "outputId": "37b73f07-2d16-458c-8e5f-342e24732827"
      },
      "execution_count": null,
      "outputs": [
        {
          "output_type": "stream",
          "name": "stdout",
          "text": [
            "{'price': '50,800', 'name': '카카오', 'code': '035720', 'volum': '1,775,751'}\n"
          ]
        }
      ]
    },
    {
      "cell_type": "code",
      "source": [
        "# 035720 450080 454910 004835\n",
        "codes = ['035720', '450080', '004835', '450080']\n",
        "\n",
        "data = []\n",
        "for code in codes:\n",
        "    dic = naver_finance(code)\n",
        "    data.append(dic)\n",
        "print(data)"
      ],
      "metadata": {
        "colab": {
          "base_uri": "https://localhost:8080/"
        },
        "id": "gUdPzZwNYbkt",
        "outputId": "a8d678e1-1833-4c76-ae6a-9d84100033a5"
      },
      "execution_count": null,
      "outputs": [
        {
          "output_type": "stream",
          "name": "stdout",
          "text": [
            "[{'price': '50,900', 'name': '카카오', 'code': '035720', 'volum': '1,922,876'}, {'price': '92,400', 'name': '에코프로머티', 'code': '450080', 'volum': '11,816,600'}, {'price': '6,240', 'name': '덕성우', 'code': '004835', 'volum': '283,546'}, {'price': '92,400', 'name': '에코프로머티', 'code': '450080', 'volum': '11,816,600'}]\n"
          ]
        }
      ]
    },
    {
      "cell_type": "code",
      "source": [
        "import pandas as pd"
      ],
      "metadata": {
        "id": "OF15j7tpZEH5"
      },
      "execution_count": null,
      "outputs": []
    },
    {
      "cell_type": "code",
      "source": [
        "df = pd.DataFrame(data)\n",
        "df"
      ],
      "metadata": {
        "colab": {
          "base_uri": "https://localhost:8080/",
          "height": 174
        },
        "id": "3nNpXlRBZJZh",
        "outputId": "6fbcfd5b-0deb-49b9-d3a9-0a45adce5f15"
      },
      "execution_count": null,
      "outputs": [
        {
          "output_type": "execute_result",
          "data": {
            "text/plain": [
              "    price    name    code       volum\n",
              "0  50,900     카카오  035720   1,922,876\n",
              "1  92,400  에코프로머티  450080  11,816,600\n",
              "2   6,240     덕성우  004835     283,546\n",
              "3  92,400  에코프로머티  450080  11,816,600"
            ],
            "text/html": [
              "\n",
              "  <div id=\"df-789d83d1-3a79-4994-8db0-057ea2abad1a\" class=\"colab-df-container\">\n",
              "    <div>\n",
              "<style scoped>\n",
              "    .dataframe tbody tr th:only-of-type {\n",
              "        vertical-align: middle;\n",
              "    }\n",
              "\n",
              "    .dataframe tbody tr th {\n",
              "        vertical-align: top;\n",
              "    }\n",
              "\n",
              "    .dataframe thead th {\n",
              "        text-align: right;\n",
              "    }\n",
              "</style>\n",
              "<table border=\"1\" class=\"dataframe\">\n",
              "  <thead>\n",
              "    <tr style=\"text-align: right;\">\n",
              "      <th></th>\n",
              "      <th>price</th>\n",
              "      <th>name</th>\n",
              "      <th>code</th>\n",
              "      <th>volum</th>\n",
              "    </tr>\n",
              "  </thead>\n",
              "  <tbody>\n",
              "    <tr>\n",
              "      <th>0</th>\n",
              "      <td>50,900</td>\n",
              "      <td>카카오</td>\n",
              "      <td>035720</td>\n",
              "      <td>1,922,876</td>\n",
              "    </tr>\n",
              "    <tr>\n",
              "      <th>1</th>\n",
              "      <td>92,400</td>\n",
              "      <td>에코프로머티</td>\n",
              "      <td>450080</td>\n",
              "      <td>11,816,600</td>\n",
              "    </tr>\n",
              "    <tr>\n",
              "      <th>2</th>\n",
              "      <td>6,240</td>\n",
              "      <td>덕성우</td>\n",
              "      <td>004835</td>\n",
              "      <td>283,546</td>\n",
              "    </tr>\n",
              "    <tr>\n",
              "      <th>3</th>\n",
              "      <td>92,400</td>\n",
              "      <td>에코프로머티</td>\n",
              "      <td>450080</td>\n",
              "      <td>11,816,600</td>\n",
              "    </tr>\n",
              "  </tbody>\n",
              "</table>\n",
              "</div>\n",
              "    <div class=\"colab-df-buttons\">\n",
              "\n",
              "  <div class=\"colab-df-container\">\n",
              "    <button class=\"colab-df-convert\" onclick=\"convertToInteractive('df-789d83d1-3a79-4994-8db0-057ea2abad1a')\"\n",
              "            title=\"Convert this dataframe to an interactive table.\"\n",
              "            style=\"display:none;\">\n",
              "\n",
              "  <svg xmlns=\"http://www.w3.org/2000/svg\" height=\"24px\" viewBox=\"0 -960 960 960\">\n",
              "    <path d=\"M120-120v-720h720v720H120Zm60-500h600v-160H180v160Zm220 220h160v-160H400v160Zm0 220h160v-160H400v160ZM180-400h160v-160H180v160Zm440 0h160v-160H620v160ZM180-180h160v-160H180v160Zm440 0h160v-160H620v160Z\"/>\n",
              "  </svg>\n",
              "    </button>\n",
              "\n",
              "  <style>\n",
              "    .colab-df-container {\n",
              "      display:flex;\n",
              "      gap: 12px;\n",
              "    }\n",
              "\n",
              "    .colab-df-convert {\n",
              "      background-color: #E8F0FE;\n",
              "      border: none;\n",
              "      border-radius: 50%;\n",
              "      cursor: pointer;\n",
              "      display: none;\n",
              "      fill: #1967D2;\n",
              "      height: 32px;\n",
              "      padding: 0 0 0 0;\n",
              "      width: 32px;\n",
              "    }\n",
              "\n",
              "    .colab-df-convert:hover {\n",
              "      background-color: #E2EBFA;\n",
              "      box-shadow: 0px 1px 2px rgba(60, 64, 67, 0.3), 0px 1px 3px 1px rgba(60, 64, 67, 0.15);\n",
              "      fill: #174EA6;\n",
              "    }\n",
              "\n",
              "    .colab-df-buttons div {\n",
              "      margin-bottom: 4px;\n",
              "    }\n",
              "\n",
              "    [theme=dark] .colab-df-convert {\n",
              "      background-color: #3B4455;\n",
              "      fill: #D2E3FC;\n",
              "    }\n",
              "\n",
              "    [theme=dark] .colab-df-convert:hover {\n",
              "      background-color: #434B5C;\n",
              "      box-shadow: 0px 1px 3px 1px rgba(0, 0, 0, 0.15);\n",
              "      filter: drop-shadow(0px 1px 2px rgba(0, 0, 0, 0.3));\n",
              "      fill: #FFFFFF;\n",
              "    }\n",
              "  </style>\n",
              "\n",
              "    <script>\n",
              "      const buttonEl =\n",
              "        document.querySelector('#df-789d83d1-3a79-4994-8db0-057ea2abad1a button.colab-df-convert');\n",
              "      buttonEl.style.display =\n",
              "        google.colab.kernel.accessAllowed ? 'block' : 'none';\n",
              "\n",
              "      async function convertToInteractive(key) {\n",
              "        const element = document.querySelector('#df-789d83d1-3a79-4994-8db0-057ea2abad1a');\n",
              "        const dataTable =\n",
              "          await google.colab.kernel.invokeFunction('convertToInteractive',\n",
              "                                                    [key], {});\n",
              "        if (!dataTable) return;\n",
              "\n",
              "        const docLinkHtml = 'Like what you see? Visit the ' +\n",
              "          '<a target=\"_blank\" href=https://colab.research.google.com/notebooks/data_table.ipynb>data table notebook</a>'\n",
              "          + ' to learn more about interactive tables.';\n",
              "        element.innerHTML = '';\n",
              "        dataTable['output_type'] = 'display_data';\n",
              "        await google.colab.output.renderOutput(dataTable, element);\n",
              "        const docLink = document.createElement('div');\n",
              "        docLink.innerHTML = docLinkHtml;\n",
              "        element.appendChild(docLink);\n",
              "      }\n",
              "    </script>\n",
              "  </div>\n",
              "\n",
              "\n",
              "<div id=\"df-a94f8607-4031-44dc-96c4-301712cc6c56\">\n",
              "  <button class=\"colab-df-quickchart\" onclick=\"quickchart('df-a94f8607-4031-44dc-96c4-301712cc6c56')\"\n",
              "            title=\"Suggest charts\"\n",
              "            style=\"display:none;\">\n",
              "\n",
              "<svg xmlns=\"http://www.w3.org/2000/svg\" height=\"24px\"viewBox=\"0 0 24 24\"\n",
              "     width=\"24px\">\n",
              "    <g>\n",
              "        <path d=\"M19 3H5c-1.1 0-2 .9-2 2v14c0 1.1.9 2 2 2h14c1.1 0 2-.9 2-2V5c0-1.1-.9-2-2-2zM9 17H7v-7h2v7zm4 0h-2V7h2v10zm4 0h-2v-4h2v4z\"/>\n",
              "    </g>\n",
              "</svg>\n",
              "  </button>\n",
              "\n",
              "<style>\n",
              "  .colab-df-quickchart {\n",
              "      --bg-color: #E8F0FE;\n",
              "      --fill-color: #1967D2;\n",
              "      --hover-bg-color: #E2EBFA;\n",
              "      --hover-fill-color: #174EA6;\n",
              "      --disabled-fill-color: #AAA;\n",
              "      --disabled-bg-color: #DDD;\n",
              "  }\n",
              "\n",
              "  [theme=dark] .colab-df-quickchart {\n",
              "      --bg-color: #3B4455;\n",
              "      --fill-color: #D2E3FC;\n",
              "      --hover-bg-color: #434B5C;\n",
              "      --hover-fill-color: #FFFFFF;\n",
              "      --disabled-bg-color: #3B4455;\n",
              "      --disabled-fill-color: #666;\n",
              "  }\n",
              "\n",
              "  .colab-df-quickchart {\n",
              "    background-color: var(--bg-color);\n",
              "    border: none;\n",
              "    border-radius: 50%;\n",
              "    cursor: pointer;\n",
              "    display: none;\n",
              "    fill: var(--fill-color);\n",
              "    height: 32px;\n",
              "    padding: 0;\n",
              "    width: 32px;\n",
              "  }\n",
              "\n",
              "  .colab-df-quickchart:hover {\n",
              "    background-color: var(--hover-bg-color);\n",
              "    box-shadow: 0 1px 2px rgba(60, 64, 67, 0.3), 0 1px 3px 1px rgba(60, 64, 67, 0.15);\n",
              "    fill: var(--button-hover-fill-color);\n",
              "  }\n",
              "\n",
              "  .colab-df-quickchart-complete:disabled,\n",
              "  .colab-df-quickchart-complete:disabled:hover {\n",
              "    background-color: var(--disabled-bg-color);\n",
              "    fill: var(--disabled-fill-color);\n",
              "    box-shadow: none;\n",
              "  }\n",
              "\n",
              "  .colab-df-spinner {\n",
              "    border: 2px solid var(--fill-color);\n",
              "    border-color: transparent;\n",
              "    border-bottom-color: var(--fill-color);\n",
              "    animation:\n",
              "      spin 1s steps(1) infinite;\n",
              "  }\n",
              "\n",
              "  @keyframes spin {\n",
              "    0% {\n",
              "      border-color: transparent;\n",
              "      border-bottom-color: var(--fill-color);\n",
              "      border-left-color: var(--fill-color);\n",
              "    }\n",
              "    20% {\n",
              "      border-color: transparent;\n",
              "      border-left-color: var(--fill-color);\n",
              "      border-top-color: var(--fill-color);\n",
              "    }\n",
              "    30% {\n",
              "      border-color: transparent;\n",
              "      border-left-color: var(--fill-color);\n",
              "      border-top-color: var(--fill-color);\n",
              "      border-right-color: var(--fill-color);\n",
              "    }\n",
              "    40% {\n",
              "      border-color: transparent;\n",
              "      border-right-color: var(--fill-color);\n",
              "      border-top-color: var(--fill-color);\n",
              "    }\n",
              "    60% {\n",
              "      border-color: transparent;\n",
              "      border-right-color: var(--fill-color);\n",
              "    }\n",
              "    80% {\n",
              "      border-color: transparent;\n",
              "      border-right-color: var(--fill-color);\n",
              "      border-bottom-color: var(--fill-color);\n",
              "    }\n",
              "    90% {\n",
              "      border-color: transparent;\n",
              "      border-bottom-color: var(--fill-color);\n",
              "    }\n",
              "  }\n",
              "</style>\n",
              "\n",
              "  <script>\n",
              "    async function quickchart(key) {\n",
              "      const quickchartButtonEl =\n",
              "        document.querySelector('#' + key + ' button');\n",
              "      quickchartButtonEl.disabled = true;  // To prevent multiple clicks.\n",
              "      quickchartButtonEl.classList.add('colab-df-spinner');\n",
              "      try {\n",
              "        const charts = await google.colab.kernel.invokeFunction(\n",
              "            'suggestCharts', [key], {});\n",
              "      } catch (error) {\n",
              "        console.error('Error during call to suggestCharts:', error);\n",
              "      }\n",
              "      quickchartButtonEl.classList.remove('colab-df-spinner');\n",
              "      quickchartButtonEl.classList.add('colab-df-quickchart-complete');\n",
              "    }\n",
              "    (() => {\n",
              "      let quickchartButtonEl =\n",
              "        document.querySelector('#df-a94f8607-4031-44dc-96c4-301712cc6c56 button');\n",
              "      quickchartButtonEl.style.display =\n",
              "        google.colab.kernel.accessAllowed ? 'block' : 'none';\n",
              "    })();\n",
              "  </script>\n",
              "</div>\n",
              "    </div>\n",
              "  </div>\n"
            ]
          },
          "metadata": {},
          "execution_count": 229
        }
      ]
    },
    {
      "cell_type": "code",
      "source": [
        "df.to_excel('naver_finance.xlsx')"
      ],
      "metadata": {
        "id": "gJmqguqMZRVO"
      },
      "execution_count": null,
      "outputs": []
    },
    {
      "cell_type": "code",
      "source": [
        "headers = {\n",
        "    'User-Agent': 'Mozilla/5.0 (Windows NT 10.0; Win64; x64) AppleWebKit/537.36 (KHTML, like Gecko) Chrome/91.0.4472.124 Safari/537.36',\n",
        "    'Referer': 'https://www.genie.co.kr/',\n",
        "}\n",
        "count = 0\n",
        "for i in range(4):\n",
        "\n",
        "    site = f'https://www.genie.co.kr/chart/top200?ditc=D&ymd=20231123&hh=08&rtm=Y&pg={i + 1}'\n",
        "    request = requests.get(site, headers=headers)\n",
        "    soup = BeautifulSoup(request.text)\n",
        "\n",
        "    infos = soup.findAll('td',{'class':'info'})\n",
        "\n",
        "\n",
        "    for info in infos:\n",
        "\n",
        "        titles = info.find('a',{'class':'title ellipsis'}).text.replace('19금\\n','').strip()\n",
        "        artists = info.find('a',{'class':'artist ellipsis'}).text.strip()\n",
        "\n",
        "        print(f'{count + 1}위 {titles} - {artists}')\n",
        "        count += 1"
      ],
      "metadata": {
        "id": "3SZcLmVjbdnS",
        "colab": {
          "base_uri": "https://localhost:8080/"
        },
        "outputId": "f353f6b3-ca2a-4370-bdcd-989864dc83cc"
      },
      "execution_count": 28,
      "outputs": [
        {
          "output_type": "stream",
          "name": "stdout",
          "text": [
            "1위 Baddie - IVE (아이브)\n",
            "2위 아이 (I) (Feat. DAWN) - 박봄 (Park Bom)\n",
            "3위 Love Lee - AKMU (악뮤)\n",
            "4위 사랑은 늘 도망가 - 임영웅\n",
            "5위 후라이의 꿈 - AKMU (악뮤)\n",
            "6위 You & Me - 제니 (JENNIE)\n",
            "7위 Drama - aespa\n",
            "8위 헤어지자 말해요 - 박재정\n",
            "9위 우리들의 블루스 - 임영웅\n",
            "10위 모래 알갱이 - 임영웅\n",
            "11위 다시 만날 수 있을까 - 임영웅\n",
            "12위 Do or Die - 임영웅\n",
            "13위 이제 나만 믿어요 - 임영웅\n",
            "14위 Perfect Night - LE SSERAFIM (르세라핌)\n",
            "15위 무지개 - 임영웅\n",
            "16위 London Boy - 임영웅\n",
            "17위 I AM - IVE (아이브)\n",
            "18위 Polaroid - 임영웅\n",
            "19위 A bientot - 임영웅\n",
            "20위 Smoke (Prod. by Dynamicduo & Padi) - 다이나믹 듀오 & 이영지\n",
            "21위 아버지 - 임영웅\n",
            "22위 Seven (Feat. Latto) (Clean Ver.) - 정국\n",
            "23위 인생찬가 - 임영웅\n",
            "24위 연애편지 - 임영웅\n",
            "25위 Either Way - IVE (아이브)\n",
            "26위 ETA - NewJeans\n",
            "27위 사막에서 꽃을 피우듯 - 우디 (Woody)\n",
            "28위 둘만의 비밀로 - 멜로망스 (MeloMance)\n",
            "29위 Super Shy - NewJeans\n",
            "30위 사건의 지평선 - 윤하 (YOUNHA)\n",
            "31위 퀸카 (Queencard) - (여자)아이들\n",
            "32위 Hype Boy - NewJeans\n",
            "33위 잠시라도 우리 - 성시경 & 나얼\n",
            "34위 지극히 사적인 얘기 - 다비치\n",
            "35위 심 (心) - DK (디셈버)\n",
            "36위 Ditto - NewJeans\n",
            "37위 Chill Kill - Red Velvet (레드벨벳)\n",
            "38위 DIE 4 YOU - DEAN\n",
            "39위 락 (樂) - Stray Kids (스트레이 키즈)\n",
            "40위 Off The Record - IVE (아이브)\n",
            "41위 Fast Forward - 전소미\n",
            "42위 예뻤어 - DAY6 (데이식스)\n",
            "43위 I Don't Think That I Like Her - Charlie Puth\n",
            "44위 이브, 프시케 그리고 푸른 수염의 아내 - LE SSERAFIM (르세라핌)\n",
            "45위 인사 - 범진\n",
            "46위 Kitsch - IVE (아이브)\n",
            "47위 Spicy - aespa\n",
            "48위 사랑인가 봐 - 멜로망스 (MeloMance)\n",
            "49위 너의 모든 순간 - 성시경\n",
            "50위 I Love My Body - 화사 (HWASA)\n",
            "51위 Standing Next to You - 정국\n",
            "52위 그대만 있다면 (여름날 우리 X 너드커넥션 (Nerd Connection)) - 너드커넥션 (Nerd Connection)\n",
            "53위 After LIKE - IVE (아이브)\n",
            "54위 Dangerously - Charlie Puth\n",
            "55위 어떻게 이별까지 사랑하겠어, 널 사랑하는 거지 - AKMU (악뮤)\n",
            "56위 물론 - 허각\n",
            "57위 사랑하지 않아서 그랬어 - 임한별\n",
            "58위 건물 사이에 피어난 장미 - H1-KEY (하이키)\n",
            "59위 GODS - NewJeans & League of Legends\n",
            "60위 음악의 신 - 세븐틴 (SEVENTEEN)\n",
            "61위 LOVE DIVE - IVE (아이브)\n",
            "62위 숲 - 최유리\n",
            "63위 잘 지내자, 우리 (여름날 우리 X 로이킴) - 로이킴\n",
            "64위 주저하는 연인들을 위해 - 잔나비\n",
            "65위 다정히 내 이름을 부르면 - 경서예지 & 전건호\n",
            "66위 Attention - NewJeans\n",
            "67위 MEGAVERSE - Stray Kids (스트레이 키즈)\n",
            "68위 Leave - Stray Kids (스트레이 키즈)\n",
            "69위 Underwater - 권은비\n",
            "70위 가려줘 - Stray Kids (스트레이 키즈)\n",
            "71위 밤, 바다 - 최유리\n",
            "72위 사각지대 - Stray Kids (스트레이 키즈)\n",
            "73위 COMFLEX - Stray Kids (스트레이 키즈)\n",
            "74위 Summer (Feat. BE'O (비오)) - Paul Blanco\n",
            "75위 Get A Guitar - RIIZE\n",
            "76위 한 페이지가 될 수 있게 - DAY6 (데이식스)\n",
            "77위 Bubble - STAYC (스테이씨)\n",
            "78위 특 - Stray Kids (스트레이 키즈)\n",
            "79위 취중고백 - 김민석 (멜로망스)\n",
            "80위 Social Path (Feat. LiSA) (Korean Ver.) - Stray Kids (스트레이 키즈)\n",
            "81위 OMG - NewJeans\n",
            "82위 3D (Feat. Jack Harlow) - 정국\n",
            "83위 그라데이션 - 10CM\n",
            "84위 락 (樂) (Rock Ver.) - Stray Kids (스트레이 키즈)\n",
            "85위 UNFORGIVEN (Feat. Nile Rodgers) - LE SSERAFIM (르세라핌)\n",
            "86위 그중에 그대를 만나 - 김호중\n",
            "87위 That's Hilarious - Charlie Puth\n",
            "88위 Steal The Show - Lauv\n",
            "89위 달빛에 그려지는 - 미연 ((여자)아이들)\n",
            "90위 Dynamite - 방탄소년단\n",
            "91위 희재 - 성시경\n",
            "92위 모든 날, 모든 순간 (Every day, Every Moment) - 폴킴\n",
            "93위 Stay - The Kid LAROI & Justin Bieber\n",
            "94위 파이팅 해야지 (Feat. 이영지) - 부석순 (SEVENTEEN)\n",
            "95위 When I Get Old - Christopher & 청하\n",
            "96위 손오공 - 세븐틴 (SEVENTEEN)\n",
            "97위 해요 (2022) - #안녕\n",
            "98위 꽃 - 지수 (JISOO)\n",
            "99위 당신을 만나 - 김호중 & 송가인\n",
            "100위 그때 그 순간 그대로 (그그그) - WSG워너비 (가야G)\n",
            "101위 ANTIFRAGILE - LE SSERAFIM (르세라핌)\n",
            "102위 All I Want for Christmas Is You - Mariah Carey\n",
            "103위 나의 X에게 - 경서\n",
            "104위 편지 한 장 (부제 : 서른에 만난 첫 세상) (A letter) - 김호중\n",
            "105위 나에게 그대만이 - 탑현\n",
            "106위 Monologue - 테이 (Tei)\n",
            "107위 미워 (Ego) - Crush\n",
            "108위 주마등 - 김호중\n",
            "109위 나의 목소리로 - 김호중\n",
            "110위 Teddy Bear - STAYC (스테이씨)\n",
            "111위 TOMBOY - (여자)아이들\n",
            "112위 빛이 나는 사람 - 김호중\n",
            "113위 애인이 되어줄게요 (Prod. by 알고보니 & 혼수상태) - 김호중\n",
            "114위 인생은 뷰티풀 - 김호중\n",
            "115위 내가 아니라도 - 주호\n",
            "116위 The Drum - Alan Walker\n",
            "117위 약속 (約束) - 김호중\n",
            "118위 ELEVEN - IVE (아이브)\n",
            "119위 친구 - 김호중\n",
            "120위 오늘도 빛나는 너에게 (To You My Light) (Feat.이라온) - 마크툽 (Maktub)\n",
            "121위 Off My Face - Justin Bieber\n",
            "122위 Adoro - 김호중\n",
            "123위 첫 눈 - EXO\n",
            "124위 Shut Down - BLACKPINK\n",
            "125위 Tiritomba - 김호중\n",
            "126위 봄날 - 방탄소년단\n",
            "127위 오르트구름 - 윤하 (YOUNHA)\n",
            "128위 Champagne - 김호중\n",
            "129위 2002 - Anne-Marie\n",
            "130위 Yes or No - 정국\n",
            "131위 항해 - 윈터 (WINTER)\n",
            "132위 밤하늘의 별을 (2020) - 경서\n",
            "133위 Someday - 박은빈\n",
            "134위 첫눈처럼 너에게 가겠다 - 에일리 (Ailee)\n",
            "135위 Butter - 방탄소년단\n",
            "136위 새삥 (Prod. by ZICO) (Feat. 호미들) - 지코 (ZICO)\n",
            "137위 이쁜 여자가 좋더라 (Feat. Gist & Jayci yucca) - 릴러말즈 (Leellamarz)\n",
            "138위 Loving You Girl (Feat. Hkeem) - Peder Elias\n",
            "139위 Pink Venom - BLACKPINK\n",
            "140위 신호등 - 이무진\n",
            "141위 Candy - NCT DREAM\n",
            "142위 잠깐 시간 될까 - 이무진\n",
            "143위 Chili - 화사 (HWASA)\n",
            "144위 사실말야내가말야그게그러니까말이야 - 케이시 (Kassy)\n",
            "145위 시간을 거슬러 (낮에 뜨는 달 X 케이윌) - 케이윌 (K.Will)\n",
            "146위 너무 예뻐 보였다 - 한동근\n",
            "147위 다시 사랑한다면 (니글니글 버터플라이) - 김필\n",
            "148위 사랑..그게 뭔데 - 지아 (Zia)\n",
            "149위 사랑의 바보 - 제이세라 (J-Cera)\n",
            "150위 첫 키스에 내 심장은 120BPM - 경서\n",
            "151위 흔들리는 꽃들 속에서 네 샴푸향이 느껴진거야 - 장범준\n",
            "152위 어제처럼 - 폴킴\n",
            "153위 New Jeans - NewJeans\n",
            "154위 흠칫 (Hmm-cheat) - Crush\n",
            "155위 봄여름가을겨울 (Still Life) - BIGBANG (빅뱅)\n",
            "156위 Nxde - (여자)아이들\n",
            "157위 별 떨어진다 (I Do) - 디오 (D.O.)\n",
            "158위 Every Second - Mina Okabe\n",
            "159위 I'm Not The Only One - Sam Smith\n",
            "160위 미친 사랑의 노래 - 김연지 & DK (디셈버)\n",
            "161위 Screen Time (Feat. Hoshi of SEVENTEEN) - 에픽하이 (EPIK HIGH)\n",
            "162위 OHAYO MY NIGHT - 디핵 (D-Hack) & PATEKO\n",
            "163위 너에게 난, 나에게 넌 - 미도와 파라솔\n",
            "164위 CAKE - ITZY (있지)\n",
            "165위 Blueming - 아이유 (IU)\n",
            "166위 정이라고 하자 (Feat. 10CM) - BIG Naughty (서동현)\n",
            "167위 Discord - QWER\n",
            "168위 떠나보낼 준비해 둘걸 그랬어 - 임한별\n",
            "169위 내 손을 잡아 - 아이유 (IU)\n",
            "170위 보고싶었어 - WSG워너비 (4FIRE)\n",
            "171위 Say I Love You - 우디 (Woody)\n",
            "172위 어른 - Sondia\n",
            "173위 LOVE me - BE'O (비오)\n",
            "174위 좋은 밤 좋은 꿈 - 너드커넥션 (Nerd Connection)\n",
            "175위 눈이 오잖아 (Feat. 헤이즈) - 이무진\n",
            "176위 Heaven (2023) - 임재현\n",
            "177위 벌써 일년 - 브라운 아이즈\n",
            "178위 풍등 - 이찬원\n",
            "179위 Hate You - 정국\n",
            "180위 Dreamers (Music from the FIFA World Cup Qatar 2022 Official Soundtrack) (Feat. FIFA Sound) - 정국 & 방탄소년단\n",
            "181위 Snowman - Sia\n",
            "182위 해줄 수 없는 일 - 거미 (Gummy)\n",
            "183위 거리에서 (Feat. ASH ISLAND) - 릴러말즈 (Leellamarz)\n",
            "184위 찰나가 영원이 될 때 (The Eternal Moment) - 마크툽 (Maktub)\n",
            "185위 있잖아 - 폴킴\n",
            "186위 팡파레 - 다비치\n",
            "187위 Bad Habits - Ed Sheeran\n",
            "188위 NOBODY - 소연 ((여자)아이들) & 윈터 (WINTER) & 리즈 (IVE)\n",
            "189위 Celebrity - 아이유 (IU)\n",
            "190위 Trip (Feat. Hannah) - 릴러말즈 (Leellamarz)\n",
            "191위 Rewrite The Stars - Zac Efron & Zendaya\n",
            "192위 오래된 노래 - Standing Egg (스탠딩 에그)\n",
            "193위 여섯 번째 여름 - PLAVE\n",
            "194위 우린 그렇게 사랑해서 - 강민경 (다비치) & 잔나비 최정훈\n",
            "195위 Santa Tell Me - Ariana Grande\n",
            "196위 Way Back Home - 숀 (SHAUN)\n",
            "197위 묘해, 너와 (re:cord) - 디에이드 (The Ade)\n",
            "198위 At My Worst - Pink Sweat$\n",
            "199위 고백 - 멜로망스 (MeloMance)\n",
            "200위 Permission to Dance - 방탄소년단\n"
          ]
        }
      ]
    }
  ]
}
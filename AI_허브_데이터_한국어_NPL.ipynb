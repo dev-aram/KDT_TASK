{
  "nbformat": 4,
  "nbformat_minor": 0,
  "metadata": {
    "colab": {
      "provenance": [],
      "mount_file_id": "120XpM-0tpPX8wPgXGz7zaB_swVdx4i5m",
      "authorship_tag": "ABX9TyNP/xEoviw192XejwFpLk7p",
      "include_colab_link": true
    },
    "kernelspec": {
      "name": "python3",
      "display_name": "Python 3"
    },
    "language_info": {
      "name": "python"
    }
  },
  "cells": [
    {
      "cell_type": "markdown",
      "metadata": {
        "id": "view-in-github",
        "colab_type": "text"
      },
      "source": [
        "<a href=\"https://colab.research.google.com/github/dev-aram/KDT_TASK/blob/master/AI_%ED%97%88%EB%B8%8C_%EB%8D%B0%EC%9D%B4%ED%84%B0_%ED%95%9C%EA%B5%AD%EC%96%B4_NPL.ipynb\" target=\"_parent\"><img src=\"https://colab.research.google.com/assets/colab-badge.svg\" alt=\"Open In Colab\"/></a>"
      ]
    },
    {
      "cell_type": "markdown",
      "source": [
        "#  데이터셋 선정 - 감성 대화 말뭉치\n",
        "https://www.aihub.or.kr/aihubdata/data/view.do?currMenu=115&topMenu=100&aihubDataSe=data&dataSetSn=86"
      ],
      "metadata": {
        "id": "ccIYum7hJKSu"
      }
    },
    {
      "cell_type": "markdown",
      "source": [
        "# 필요한 라이브러리 임포트"
      ],
      "metadata": {
        "id": "mjwLmG8KJTD1"
      }
    },
    {
      "cell_type": "code",
      "execution_count": null,
      "metadata": {
        "id": "WlhZyAov3Gwz"
      },
      "outputs": [],
      "source": [
        "import pandas as pd\n",
        "import numpy  as  np\n",
        "import re\n",
        "import nltk\n",
        "from nltk.corpus import stopwords\n",
        "from tensorflow.keras.preprocessing.text import Tokenizer\n",
        "from tensorflow.keras.preprocessing.sequence import skipgrams\n",
        "from tensorflow.keras.models import Sequential, Model\n",
        "from tensorflow.keras.layers import Embedding, Reshape, Activation, Input, Dot\n",
        "from tensorflow.keras.utils import plot_model\n",
        "import gensim"
      ]
    },
    {
      "cell_type": "markdown",
      "source": [
        "# 데이터프레임 제작  및  데이터 전처리"
      ],
      "metadata": {
        "id": "VaNtL3lLJY8w"
      }
    },
    {
      "cell_type": "code",
      "source": [
        "file = '/content/drive/MyDrive/KDT 시즌2/9. 자연어 처리/과제/data/감성대화말뭉치(최종데이터)_Training.xlsx'\n",
        "\n",
        "df = pd.read_excel(file)"
      ],
      "metadata": {
        "id": "6nNb02jP-MXO"
      },
      "execution_count": null,
      "outputs": []
    },
    {
      "cell_type": "code",
      "source": [
        "# 결측값 제거\n",
        "df = df.dropna()"
      ],
      "metadata": {
        "id": "340cyAk9-SlZ"
      },
      "execution_count": null,
      "outputs": []
    },
    {
      "cell_type": "code",
      "source": [
        "df.info()\n",
        "df.head(5)"
      ],
      "metadata": {
        "colab": {
          "base_uri": "https://localhost:8080/",
          "height": 1000
        },
        "id": "C-nKbEZ0-aJC",
        "outputId": "b3b9c228-2ba9-4522-e11e-af7fceec6ee7"
      },
      "execution_count": null,
      "outputs": [
        {
          "output_type": "stream",
          "name": "stdout",
          "text": [
            "<class 'pandas.core.frame.DataFrame'>\n",
            "Int64Index: 42694 entries, 304 to 51629\n",
            "Data columns (total 13 columns):\n",
            " #   Column      Non-Null Count  Dtype \n",
            "---  ------      --------------  ----- \n",
            " 0   Unnamed: 0  42694 non-null  int64 \n",
            " 1   연령          42694 non-null  object\n",
            " 2   성별          42694 non-null  object\n",
            " 3   상황키워드       42694 non-null  object\n",
            " 4   신체질환        42694 non-null  object\n",
            " 5   감정_대분류      42694 non-null  object\n",
            " 6   감정_소분류      42694 non-null  object\n",
            " 7   사람문장1       42694 non-null  object\n",
            " 8   시스템문장1      42694 non-null  object\n",
            " 9   사람문장2       42694 non-null  object\n",
            " 10  시스템문장2      42694 non-null  object\n",
            " 11  사람문장3       42694 non-null  object\n",
            " 12  시스템문장3      42694 non-null  object\n",
            "dtypes: int64(1), object(12)\n",
            "memory usage: 4.6+ MB\n"
          ]
        },
        {
          "output_type": "execute_result",
          "data": {
            "text/plain": [
              "     Unnamed: 0  연령  성별       상황키워드  신체질환 감정_대분류 감정_소분류  \\\n",
              "304         305  중년  여성  재정,은퇴,노후준비  해당없음     상처     상처   \n",
              "305         306  중년  여성  재정,은퇴,노후준비  해당없음     상처     상처   \n",
              "306         307  중년  여성  재정,은퇴,노후준비  해당없음     상처     상처   \n",
              "307         308  중년  여성  재정,은퇴,노후준비  해당없음     상처     상처   \n",
              "308         309  중년  여성  재정,은퇴,노후준비  해당없음     상처     상처   \n",
              "\n",
              "                                                 사람문장1  \\\n",
              "304    지금까지 힘들게 일했는데 은퇴해서 돈이 없다고 하니 자식이 화를 내서 상처를 받았어.   \n",
              "305  친구한테 은퇴할 거라고 얘기했더니 앞으로 뭘 먹고 살 거냐면서 비웃더라고. 기분이 ...   \n",
              "306   친구한테 은퇴한다고 했더니 그게 말이나 되는 거냐며 날 한심한 사람 취급해서 서운했어.   \n",
              "307  그동안 열심히 달려와서 좀 쉬려고 하는데 은퇴한다고 하니 주변에서 다 말려서 기분이...   \n",
              "308   많은 고민 후 은퇴를 결심했는데 주변에서 다들 섣부른 생각이라고 해서 마음이 안 좋아.   \n",
              "\n",
              "                                   시스템문장1  \\\n",
              "304        돈이 없다고 하니 자식이 화를 내서 상처를 받으셨군요.   \n",
              "305                 비웃는 친구의 말에 기분이 나쁘셨군요.   \n",
              "306            친구분이 은퇴를 한심하게 취급해서 서운하셨군요.   \n",
              "307  그동안 너무 고생하셨어요. 주변 분들이 많이 걱정해 주시나 봐요.   \n",
              "308  은퇴를 결심했는데 주변에선 섣부르다고 해서 마음이 안 좋으셨군요.   \n",
              "\n",
              "                                          사람문장2  \\\n",
              "304        너무 화가 나. 도와줬던 건 기억 못 하고 더 받을 생각만 하니.   \n",
              "305      아주 나쁜 친구야. 은퇴를 내가 하고 싶어 하는 것도 아닌데 말이야.   \n",
              "306  맞아. 그동안 내가 얼마나 힘들게 일했는지 알고 있으면서 그런 말을 하다니.   \n",
              "307       응. 그렇지만 내 결정에 다들 냉담하게 반응하니 기분이 좋지 않아.   \n",
              "308    힘들게 결심했는데 다들 반대하니까 조금 더 고민해 보는 게 좋을까 싶어.   \n",
              "\n",
              "                                                시스템문장2  \\\n",
              "304       자식들이 받을 생각만 해서 화가 나셨군요. 이 기분을 바꿀 만한 일이 있을까요?   \n",
              "305       은퇴를 비웃는 친구가 나쁘다고 생각하시는군요. 앞으로 어떻게 하실 생각이신가요?   \n",
              "306  얼마나 힘들었는지 아는 친구분이 그런 말을 했군요. 기분이 나아질 만한 방법이 있을까요?   \n",
              "307   다들 냉담하게 반응해 기분이 좋지 않으시군요. 이 기분을 어떻게 바꿔 볼 수 있을까요?   \n",
              "308           조금 더 고민하는 게 좋을지 생각하시는군요. 어떤 선택을 해야 좋을까요?   \n",
              "\n",
              "                                                 사람문장3  \\\n",
              "304  앞으로는 자식보다 나를 생각하며 살아야겠어. 자식 위해 살아도 필요 없다는 말 이제...   \n",
              "305        은퇴 후 조금 쉬며 즐기려고 해. 내가 잘할 수 있는 일이 분명 있을 테니까.   \n",
              "306                 감정을 추스르고 나중에 연락을 해야겠어. 지금은 많이 서운해.   \n",
              "307                  일단 여행을 다녀 보려고. 그동안 너무 앞만 보고 달려왔어.   \n",
              "308                 한 달 정도 더 고민을 해 보려고. 지금 너무 마음이 지쳤어.   \n",
              "\n",
              "                            시스템문장3  \n",
              "304     이제는 자식보다 나를 생각하며 살려 하시는군요.  \n",
              "305      은퇴 후에는 쉬면서 즐기려고 할 생각이시군요.  \n",
              "306     감정을 추스르고 나중에 연락을 할 생각이시군요.  \n",
              "307               여행을 다녀 볼 생각이시군요.  \n",
              "308  마음이 지쳐 한 달 정도 더 고민해 볼 생각이시군요.  "
            ],
            "text/html": [
              "\n",
              "  <div id=\"df-47488034-6f01-4582-bd22-a22a9c87130c\" class=\"colab-df-container\">\n",
              "    <div>\n",
              "<style scoped>\n",
              "    .dataframe tbody tr th:only-of-type {\n",
              "        vertical-align: middle;\n",
              "    }\n",
              "\n",
              "    .dataframe tbody tr th {\n",
              "        vertical-align: top;\n",
              "    }\n",
              "\n",
              "    .dataframe thead th {\n",
              "        text-align: right;\n",
              "    }\n",
              "</style>\n",
              "<table border=\"1\" class=\"dataframe\">\n",
              "  <thead>\n",
              "    <tr style=\"text-align: right;\">\n",
              "      <th></th>\n",
              "      <th>Unnamed: 0</th>\n",
              "      <th>연령</th>\n",
              "      <th>성별</th>\n",
              "      <th>상황키워드</th>\n",
              "      <th>신체질환</th>\n",
              "      <th>감정_대분류</th>\n",
              "      <th>감정_소분류</th>\n",
              "      <th>사람문장1</th>\n",
              "      <th>시스템문장1</th>\n",
              "      <th>사람문장2</th>\n",
              "      <th>시스템문장2</th>\n",
              "      <th>사람문장3</th>\n",
              "      <th>시스템문장3</th>\n",
              "    </tr>\n",
              "  </thead>\n",
              "  <tbody>\n",
              "    <tr>\n",
              "      <th>304</th>\n",
              "      <td>305</td>\n",
              "      <td>중년</td>\n",
              "      <td>여성</td>\n",
              "      <td>재정,은퇴,노후준비</td>\n",
              "      <td>해당없음</td>\n",
              "      <td>상처</td>\n",
              "      <td>상처</td>\n",
              "      <td>지금까지 힘들게 일했는데 은퇴해서 돈이 없다고 하니 자식이 화를 내서 상처를 받았어.</td>\n",
              "      <td>돈이 없다고 하니 자식이 화를 내서 상처를 받으셨군요.</td>\n",
              "      <td>너무 화가 나. 도와줬던 건 기억 못 하고 더 받을 생각만 하니.</td>\n",
              "      <td>자식들이 받을 생각만 해서 화가 나셨군요. 이 기분을 바꿀 만한 일이 있을까요?</td>\n",
              "      <td>앞으로는 자식보다 나를 생각하며 살아야겠어. 자식 위해 살아도 필요 없다는 말 이제...</td>\n",
              "      <td>이제는 자식보다 나를 생각하며 살려 하시는군요.</td>\n",
              "    </tr>\n",
              "    <tr>\n",
              "      <th>305</th>\n",
              "      <td>306</td>\n",
              "      <td>중년</td>\n",
              "      <td>여성</td>\n",
              "      <td>재정,은퇴,노후준비</td>\n",
              "      <td>해당없음</td>\n",
              "      <td>상처</td>\n",
              "      <td>상처</td>\n",
              "      <td>친구한테 은퇴할 거라고 얘기했더니 앞으로 뭘 먹고 살 거냐면서 비웃더라고. 기분이 ...</td>\n",
              "      <td>비웃는 친구의 말에 기분이 나쁘셨군요.</td>\n",
              "      <td>아주 나쁜 친구야. 은퇴를 내가 하고 싶어 하는 것도 아닌데 말이야.</td>\n",
              "      <td>은퇴를 비웃는 친구가 나쁘다고 생각하시는군요. 앞으로 어떻게 하실 생각이신가요?</td>\n",
              "      <td>은퇴 후 조금 쉬며 즐기려고 해. 내가 잘할 수 있는 일이 분명 있을 테니까.</td>\n",
              "      <td>은퇴 후에는 쉬면서 즐기려고 할 생각이시군요.</td>\n",
              "    </tr>\n",
              "    <tr>\n",
              "      <th>306</th>\n",
              "      <td>307</td>\n",
              "      <td>중년</td>\n",
              "      <td>여성</td>\n",
              "      <td>재정,은퇴,노후준비</td>\n",
              "      <td>해당없음</td>\n",
              "      <td>상처</td>\n",
              "      <td>상처</td>\n",
              "      <td>친구한테 은퇴한다고 했더니 그게 말이나 되는 거냐며 날 한심한 사람 취급해서 서운했어.</td>\n",
              "      <td>친구분이 은퇴를 한심하게 취급해서 서운하셨군요.</td>\n",
              "      <td>맞아. 그동안 내가 얼마나 힘들게 일했는지 알고 있으면서 그런 말을 하다니.</td>\n",
              "      <td>얼마나 힘들었는지 아는 친구분이 그런 말을 했군요. 기분이 나아질 만한 방법이 있을까요?</td>\n",
              "      <td>감정을 추스르고 나중에 연락을 해야겠어. 지금은 많이 서운해.</td>\n",
              "      <td>감정을 추스르고 나중에 연락을 할 생각이시군요.</td>\n",
              "    </tr>\n",
              "    <tr>\n",
              "      <th>307</th>\n",
              "      <td>308</td>\n",
              "      <td>중년</td>\n",
              "      <td>여성</td>\n",
              "      <td>재정,은퇴,노후준비</td>\n",
              "      <td>해당없음</td>\n",
              "      <td>상처</td>\n",
              "      <td>상처</td>\n",
              "      <td>그동안 열심히 달려와서 좀 쉬려고 하는데 은퇴한다고 하니 주변에서 다 말려서 기분이...</td>\n",
              "      <td>그동안 너무 고생하셨어요. 주변 분들이 많이 걱정해 주시나 봐요.</td>\n",
              "      <td>응. 그렇지만 내 결정에 다들 냉담하게 반응하니 기분이 좋지 않아.</td>\n",
              "      <td>다들 냉담하게 반응해 기분이 좋지 않으시군요. 이 기분을 어떻게 바꿔 볼 수 있을까요?</td>\n",
              "      <td>일단 여행을 다녀 보려고. 그동안 너무 앞만 보고 달려왔어.</td>\n",
              "      <td>여행을 다녀 볼 생각이시군요.</td>\n",
              "    </tr>\n",
              "    <tr>\n",
              "      <th>308</th>\n",
              "      <td>309</td>\n",
              "      <td>중년</td>\n",
              "      <td>여성</td>\n",
              "      <td>재정,은퇴,노후준비</td>\n",
              "      <td>해당없음</td>\n",
              "      <td>상처</td>\n",
              "      <td>상처</td>\n",
              "      <td>많은 고민 후 은퇴를 결심했는데 주변에서 다들 섣부른 생각이라고 해서 마음이 안 좋아.</td>\n",
              "      <td>은퇴를 결심했는데 주변에선 섣부르다고 해서 마음이 안 좋으셨군요.</td>\n",
              "      <td>힘들게 결심했는데 다들 반대하니까 조금 더 고민해 보는 게 좋을까 싶어.</td>\n",
              "      <td>조금 더 고민하는 게 좋을지 생각하시는군요. 어떤 선택을 해야 좋을까요?</td>\n",
              "      <td>한 달 정도 더 고민을 해 보려고. 지금 너무 마음이 지쳤어.</td>\n",
              "      <td>마음이 지쳐 한 달 정도 더 고민해 볼 생각이시군요.</td>\n",
              "    </tr>\n",
              "  </tbody>\n",
              "</table>\n",
              "</div>\n",
              "    <div class=\"colab-df-buttons\">\n",
              "\n",
              "  <div class=\"colab-df-container\">\n",
              "    <button class=\"colab-df-convert\" onclick=\"convertToInteractive('df-47488034-6f01-4582-bd22-a22a9c87130c')\"\n",
              "            title=\"Convert this dataframe to an interactive table.\"\n",
              "            style=\"display:none;\">\n",
              "\n",
              "  <svg xmlns=\"http://www.w3.org/2000/svg\" height=\"24px\" viewBox=\"0 -960 960 960\">\n",
              "    <path d=\"M120-120v-720h720v720H120Zm60-500h600v-160H180v160Zm220 220h160v-160H400v160Zm0 220h160v-160H400v160ZM180-400h160v-160H180v160Zm440 0h160v-160H620v160ZM180-180h160v-160H180v160Zm440 0h160v-160H620v160Z\"/>\n",
              "  </svg>\n",
              "    </button>\n",
              "\n",
              "  <style>\n",
              "    .colab-df-container {\n",
              "      display:flex;\n",
              "      gap: 12px;\n",
              "    }\n",
              "\n",
              "    .colab-df-convert {\n",
              "      background-color: #E8F0FE;\n",
              "      border: none;\n",
              "      border-radius: 50%;\n",
              "      cursor: pointer;\n",
              "      display: none;\n",
              "      fill: #1967D2;\n",
              "      height: 32px;\n",
              "      padding: 0 0 0 0;\n",
              "      width: 32px;\n",
              "    }\n",
              "\n",
              "    .colab-df-convert:hover {\n",
              "      background-color: #E2EBFA;\n",
              "      box-shadow: 0px 1px 2px rgba(60, 64, 67, 0.3), 0px 1px 3px 1px rgba(60, 64, 67, 0.15);\n",
              "      fill: #174EA6;\n",
              "    }\n",
              "\n",
              "    .colab-df-buttons div {\n",
              "      margin-bottom: 4px;\n",
              "    }\n",
              "\n",
              "    [theme=dark] .colab-df-convert {\n",
              "      background-color: #3B4455;\n",
              "      fill: #D2E3FC;\n",
              "    }\n",
              "\n",
              "    [theme=dark] .colab-df-convert:hover {\n",
              "      background-color: #434B5C;\n",
              "      box-shadow: 0px 1px 3px 1px rgba(0, 0, 0, 0.15);\n",
              "      filter: drop-shadow(0px 1px 2px rgba(0, 0, 0, 0.3));\n",
              "      fill: #FFFFFF;\n",
              "    }\n",
              "  </style>\n",
              "\n",
              "    <script>\n",
              "      const buttonEl =\n",
              "        document.querySelector('#df-47488034-6f01-4582-bd22-a22a9c87130c button.colab-df-convert');\n",
              "      buttonEl.style.display =\n",
              "        google.colab.kernel.accessAllowed ? 'block' : 'none';\n",
              "\n",
              "      async function convertToInteractive(key) {\n",
              "        const element = document.querySelector('#df-47488034-6f01-4582-bd22-a22a9c87130c');\n",
              "        const dataTable =\n",
              "          await google.colab.kernel.invokeFunction('convertToInteractive',\n",
              "                                                    [key], {});\n",
              "        if (!dataTable) return;\n",
              "\n",
              "        const docLinkHtml = 'Like what you see? Visit the ' +\n",
              "          '<a target=\"_blank\" href=https://colab.research.google.com/notebooks/data_table.ipynb>data table notebook</a>'\n",
              "          + ' to learn more about interactive tables.';\n",
              "        element.innerHTML = '';\n",
              "        dataTable['output_type'] = 'display_data';\n",
              "        await google.colab.output.renderOutput(dataTable, element);\n",
              "        const docLink = document.createElement('div');\n",
              "        docLink.innerHTML = docLinkHtml;\n",
              "        element.appendChild(docLink);\n",
              "      }\n",
              "    </script>\n",
              "  </div>\n",
              "\n",
              "\n",
              "<div id=\"df-421cd332-caa8-4fd1-b377-fb3054b0d9fe\">\n",
              "  <button class=\"colab-df-quickchart\" onclick=\"quickchart('df-421cd332-caa8-4fd1-b377-fb3054b0d9fe')\"\n",
              "            title=\"Suggest charts\"\n",
              "            style=\"display:none;\">\n",
              "\n",
              "<svg xmlns=\"http://www.w3.org/2000/svg\" height=\"24px\"viewBox=\"0 0 24 24\"\n",
              "     width=\"24px\">\n",
              "    <g>\n",
              "        <path d=\"M19 3H5c-1.1 0-2 .9-2 2v14c0 1.1.9 2 2 2h14c1.1 0 2-.9 2-2V5c0-1.1-.9-2-2-2zM9 17H7v-7h2v7zm4 0h-2V7h2v10zm4 0h-2v-4h2v4z\"/>\n",
              "    </g>\n",
              "</svg>\n",
              "  </button>\n",
              "\n",
              "<style>\n",
              "  .colab-df-quickchart {\n",
              "      --bg-color: #E8F0FE;\n",
              "      --fill-color: #1967D2;\n",
              "      --hover-bg-color: #E2EBFA;\n",
              "      --hover-fill-color: #174EA6;\n",
              "      --disabled-fill-color: #AAA;\n",
              "      --disabled-bg-color: #DDD;\n",
              "  }\n",
              "\n",
              "  [theme=dark] .colab-df-quickchart {\n",
              "      --bg-color: #3B4455;\n",
              "      --fill-color: #D2E3FC;\n",
              "      --hover-bg-color: #434B5C;\n",
              "      --hover-fill-color: #FFFFFF;\n",
              "      --disabled-bg-color: #3B4455;\n",
              "      --disabled-fill-color: #666;\n",
              "  }\n",
              "\n",
              "  .colab-df-quickchart {\n",
              "    background-color: var(--bg-color);\n",
              "    border: none;\n",
              "    border-radius: 50%;\n",
              "    cursor: pointer;\n",
              "    display: none;\n",
              "    fill: var(--fill-color);\n",
              "    height: 32px;\n",
              "    padding: 0;\n",
              "    width: 32px;\n",
              "  }\n",
              "\n",
              "  .colab-df-quickchart:hover {\n",
              "    background-color: var(--hover-bg-color);\n",
              "    box-shadow: 0 1px 2px rgba(60, 64, 67, 0.3), 0 1px 3px 1px rgba(60, 64, 67, 0.15);\n",
              "    fill: var(--button-hover-fill-color);\n",
              "  }\n",
              "\n",
              "  .colab-df-quickchart-complete:disabled,\n",
              "  .colab-df-quickchart-complete:disabled:hover {\n",
              "    background-color: var(--disabled-bg-color);\n",
              "    fill: var(--disabled-fill-color);\n",
              "    box-shadow: none;\n",
              "  }\n",
              "\n",
              "  .colab-df-spinner {\n",
              "    border: 2px solid var(--fill-color);\n",
              "    border-color: transparent;\n",
              "    border-bottom-color: var(--fill-color);\n",
              "    animation:\n",
              "      spin 1s steps(1) infinite;\n",
              "  }\n",
              "\n",
              "  @keyframes spin {\n",
              "    0% {\n",
              "      border-color: transparent;\n",
              "      border-bottom-color: var(--fill-color);\n",
              "      border-left-color: var(--fill-color);\n",
              "    }\n",
              "    20% {\n",
              "      border-color: transparent;\n",
              "      border-left-color: var(--fill-color);\n",
              "      border-top-color: var(--fill-color);\n",
              "    }\n",
              "    30% {\n",
              "      border-color: transparent;\n",
              "      border-left-color: var(--fill-color);\n",
              "      border-top-color: var(--fill-color);\n",
              "      border-right-color: var(--fill-color);\n",
              "    }\n",
              "    40% {\n",
              "      border-color: transparent;\n",
              "      border-right-color: var(--fill-color);\n",
              "      border-top-color: var(--fill-color);\n",
              "    }\n",
              "    60% {\n",
              "      border-color: transparent;\n",
              "      border-right-color: var(--fill-color);\n",
              "    }\n",
              "    80% {\n",
              "      border-color: transparent;\n",
              "      border-right-color: var(--fill-color);\n",
              "      border-bottom-color: var(--fill-color);\n",
              "    }\n",
              "    90% {\n",
              "      border-color: transparent;\n",
              "      border-bottom-color: var(--fill-color);\n",
              "    }\n",
              "  }\n",
              "</style>\n",
              "\n",
              "  <script>\n",
              "    async function quickchart(key) {\n",
              "      const quickchartButtonEl =\n",
              "        document.querySelector('#' + key + ' button');\n",
              "      quickchartButtonEl.disabled = true;  // To prevent multiple clicks.\n",
              "      quickchartButtonEl.classList.add('colab-df-spinner');\n",
              "      try {\n",
              "        const charts = await google.colab.kernel.invokeFunction(\n",
              "            'suggestCharts', [key], {});\n",
              "      } catch (error) {\n",
              "        console.error('Error during call to suggestCharts:', error);\n",
              "      }\n",
              "      quickchartButtonEl.classList.remove('colab-df-spinner');\n",
              "      quickchartButtonEl.classList.add('colab-df-quickchart-complete');\n",
              "    }\n",
              "    (() => {\n",
              "      let quickchartButtonEl =\n",
              "        document.querySelector('#df-421cd332-caa8-4fd1-b377-fb3054b0d9fe button');\n",
              "      quickchartButtonEl.style.display =\n",
              "        google.colab.kernel.accessAllowed ? 'block' : 'none';\n",
              "    })();\n",
              "  </script>\n",
              "</div>\n",
              "\n",
              "    </div>\n",
              "  </div>\n"
            ]
          },
          "metadata": {},
          "execution_count": 74
        }
      ]
    },
    {
      "cell_type": "code",
      "source": [
        "#  0   Unnamed: 0  42694 non-null  int64\n",
        "#  1   연령          42694 non-null  object\n",
        "#  2   성별          42694 non-null  object\n",
        "#  3   상황키워드       42694 non-null  object\n",
        "#  4   신체질환        42694 non-null  object\n",
        "#  5   감정_대분류      42694 non-null  object\n",
        "#  6   감정_소분류      42694 non-null  object\n",
        "#  7   사람문장1       42694 non-null  object\n",
        "#  8   시스템문장1      42694 non-null  object\n",
        "#  9   사람문장2       42694 non-null  object\n",
        "#  10  시스템문장2      42694 non-null  object\n",
        "#  11  사람문장3       42694 non-null  object\n",
        "#  12  시스템문장3      42694 non-null  object\n",
        "\n",
        "df.drop(['Unnamed: 0', '연령','성별', '상황키워드', '신체질환', '감정_대분류',\n",
        "              '감정_소분류','사람문장2','사람문장3', '시스템문장1', '시스템문장2', '시스템문장3'], axis=1, inplace=True)"
      ],
      "metadata": {
        "colab": {
          "base_uri": "https://localhost:8080/"
        },
        "id": "ERn037fw_E-Y",
        "outputId": "994e11b7-1710-4609-e910-37912fbdd9ea"
      },
      "execution_count": null,
      "outputs": [
        {
          "output_type": "stream",
          "name": "stderr",
          "text": [
            "<ipython-input-75-c48048adef2a>:15: SettingWithCopyWarning: \n",
            "A value is trying to be set on a copy of a slice from a DataFrame\n",
            "\n",
            "See the caveats in the documentation: https://pandas.pydata.org/pandas-docs/stable/user_guide/indexing.html#returning-a-view-versus-a-copy\n",
            "  df.drop(['Unnamed: 0', '연령','성별', '상황키워드', '신체질환', '감정_대분류',\n"
          ]
        }
      ]
    },
    {
      "cell_type": "code",
      "source": [
        "df"
      ],
      "metadata": {
        "colab": {
          "base_uri": "https://localhost:8080/",
          "height": 424
        },
        "id": "PjBuGFz4KIcg",
        "outputId": "e5992cb4-64ed-4e9e-9118-e2c8694d6c1e"
      },
      "execution_count": null,
      "outputs": [
        {
          "output_type": "execute_result",
          "data": {
            "text/plain": [
              "                                                   사람문장1\n",
              "304      지금까지 힘들게 일했는데 은퇴해서 돈이 없다고 하니 자식이 화를 내서 상처를 받았어.\n",
              "305    친구한테 은퇴할 거라고 얘기했더니 앞으로 뭘 먹고 살 거냐면서 비웃더라고. 기분이 ...\n",
              "306     친구한테 은퇴한다고 했더니 그게 말이나 되는 거냐며 날 한심한 사람 취급해서 서운했어.\n",
              "307    그동안 열심히 달려와서 좀 쉬려고 하는데 은퇴한다고 하니 주변에서 다 말려서 기분이...\n",
              "308     많은 고민 후 은퇴를 결심했는데 주변에서 다들 섣부른 생각이라고 해서 마음이 안 좋아.\n",
              "...                                                  ...\n",
              "51625     나이가 먹고 이제 돈도 못 벌어 오니까 어떻게 살아가야 할지 막막해. 능력도 없고.\n",
              "51626        몸이 많이 약해졌나 봐. 이제 전과 같이 일하지 못할 것 같아 너무 짜증 나.\n",
              "51627   이제 어떻게 해야 할지 모르겠어. 남편도 그렇고 노후 준비도 안 되어서 미래가 걱정돼.\n",
              "51628  몇십 년을 함께 살았던 남편과 이혼했어. 그동안의 세월에 배신감을 느끼고 너무 화가 나.\n",
              "51629  남편과 결혼한 지 사십 년이야. 이제 사람 만나는 것도 버겁고 알던 사람도 점점 사라져.\n",
              "\n",
              "[42694 rows x 1 columns]"
            ],
            "text/html": [
              "\n",
              "  <div id=\"df-92f9bbd5-8bbb-4de1-95f3-319707319d33\" class=\"colab-df-container\">\n",
              "    <div>\n",
              "<style scoped>\n",
              "    .dataframe tbody tr th:only-of-type {\n",
              "        vertical-align: middle;\n",
              "    }\n",
              "\n",
              "    .dataframe tbody tr th {\n",
              "        vertical-align: top;\n",
              "    }\n",
              "\n",
              "    .dataframe thead th {\n",
              "        text-align: right;\n",
              "    }\n",
              "</style>\n",
              "<table border=\"1\" class=\"dataframe\">\n",
              "  <thead>\n",
              "    <tr style=\"text-align: right;\">\n",
              "      <th></th>\n",
              "      <th>사람문장1</th>\n",
              "    </tr>\n",
              "  </thead>\n",
              "  <tbody>\n",
              "    <tr>\n",
              "      <th>304</th>\n",
              "      <td>지금까지 힘들게 일했는데 은퇴해서 돈이 없다고 하니 자식이 화를 내서 상처를 받았어.</td>\n",
              "    </tr>\n",
              "    <tr>\n",
              "      <th>305</th>\n",
              "      <td>친구한테 은퇴할 거라고 얘기했더니 앞으로 뭘 먹고 살 거냐면서 비웃더라고. 기분이 ...</td>\n",
              "    </tr>\n",
              "    <tr>\n",
              "      <th>306</th>\n",
              "      <td>친구한테 은퇴한다고 했더니 그게 말이나 되는 거냐며 날 한심한 사람 취급해서 서운했어.</td>\n",
              "    </tr>\n",
              "    <tr>\n",
              "      <th>307</th>\n",
              "      <td>그동안 열심히 달려와서 좀 쉬려고 하는데 은퇴한다고 하니 주변에서 다 말려서 기분이...</td>\n",
              "    </tr>\n",
              "    <tr>\n",
              "      <th>308</th>\n",
              "      <td>많은 고민 후 은퇴를 결심했는데 주변에서 다들 섣부른 생각이라고 해서 마음이 안 좋아.</td>\n",
              "    </tr>\n",
              "    <tr>\n",
              "      <th>...</th>\n",
              "      <td>...</td>\n",
              "    </tr>\n",
              "    <tr>\n",
              "      <th>51625</th>\n",
              "      <td>나이가 먹고 이제 돈도 못 벌어 오니까 어떻게 살아가야 할지 막막해. 능력도 없고.</td>\n",
              "    </tr>\n",
              "    <tr>\n",
              "      <th>51626</th>\n",
              "      <td>몸이 많이 약해졌나 봐. 이제 전과 같이 일하지 못할 것 같아 너무 짜증 나.</td>\n",
              "    </tr>\n",
              "    <tr>\n",
              "      <th>51627</th>\n",
              "      <td>이제 어떻게 해야 할지 모르겠어. 남편도 그렇고 노후 준비도 안 되어서 미래가 걱정돼.</td>\n",
              "    </tr>\n",
              "    <tr>\n",
              "      <th>51628</th>\n",
              "      <td>몇십 년을 함께 살았던 남편과 이혼했어. 그동안의 세월에 배신감을 느끼고 너무 화가 나.</td>\n",
              "    </tr>\n",
              "    <tr>\n",
              "      <th>51629</th>\n",
              "      <td>남편과 결혼한 지 사십 년이야. 이제 사람 만나는 것도 버겁고 알던 사람도 점점 사라져.</td>\n",
              "    </tr>\n",
              "  </tbody>\n",
              "</table>\n",
              "<p>42694 rows × 1 columns</p>\n",
              "</div>\n",
              "    <div class=\"colab-df-buttons\">\n",
              "\n",
              "  <div class=\"colab-df-container\">\n",
              "    <button class=\"colab-df-convert\" onclick=\"convertToInteractive('df-92f9bbd5-8bbb-4de1-95f3-319707319d33')\"\n",
              "            title=\"Convert this dataframe to an interactive table.\"\n",
              "            style=\"display:none;\">\n",
              "\n",
              "  <svg xmlns=\"http://www.w3.org/2000/svg\" height=\"24px\" viewBox=\"0 -960 960 960\">\n",
              "    <path d=\"M120-120v-720h720v720H120Zm60-500h600v-160H180v160Zm220 220h160v-160H400v160Zm0 220h160v-160H400v160ZM180-400h160v-160H180v160Zm440 0h160v-160H620v160ZM180-180h160v-160H180v160Zm440 0h160v-160H620v160Z\"/>\n",
              "  </svg>\n",
              "    </button>\n",
              "\n",
              "  <style>\n",
              "    .colab-df-container {\n",
              "      display:flex;\n",
              "      gap: 12px;\n",
              "    }\n",
              "\n",
              "    .colab-df-convert {\n",
              "      background-color: #E8F0FE;\n",
              "      border: none;\n",
              "      border-radius: 50%;\n",
              "      cursor: pointer;\n",
              "      display: none;\n",
              "      fill: #1967D2;\n",
              "      height: 32px;\n",
              "      padding: 0 0 0 0;\n",
              "      width: 32px;\n",
              "    }\n",
              "\n",
              "    .colab-df-convert:hover {\n",
              "      background-color: #E2EBFA;\n",
              "      box-shadow: 0px 1px 2px rgba(60, 64, 67, 0.3), 0px 1px 3px 1px rgba(60, 64, 67, 0.15);\n",
              "      fill: #174EA6;\n",
              "    }\n",
              "\n",
              "    .colab-df-buttons div {\n",
              "      margin-bottom: 4px;\n",
              "    }\n",
              "\n",
              "    [theme=dark] .colab-df-convert {\n",
              "      background-color: #3B4455;\n",
              "      fill: #D2E3FC;\n",
              "    }\n",
              "\n",
              "    [theme=dark] .colab-df-convert:hover {\n",
              "      background-color: #434B5C;\n",
              "      box-shadow: 0px 1px 3px 1px rgba(0, 0, 0, 0.15);\n",
              "      filter: drop-shadow(0px 1px 2px rgba(0, 0, 0, 0.3));\n",
              "      fill: #FFFFFF;\n",
              "    }\n",
              "  </style>\n",
              "\n",
              "    <script>\n",
              "      const buttonEl =\n",
              "        document.querySelector('#df-92f9bbd5-8bbb-4de1-95f3-319707319d33 button.colab-df-convert');\n",
              "      buttonEl.style.display =\n",
              "        google.colab.kernel.accessAllowed ? 'block' : 'none';\n",
              "\n",
              "      async function convertToInteractive(key) {\n",
              "        const element = document.querySelector('#df-92f9bbd5-8bbb-4de1-95f3-319707319d33');\n",
              "        const dataTable =\n",
              "          await google.colab.kernel.invokeFunction('convertToInteractive',\n",
              "                                                    [key], {});\n",
              "        if (!dataTable) return;\n",
              "\n",
              "        const docLinkHtml = 'Like what you see? Visit the ' +\n",
              "          '<a target=\"_blank\" href=https://colab.research.google.com/notebooks/data_table.ipynb>data table notebook</a>'\n",
              "          + ' to learn more about interactive tables.';\n",
              "        element.innerHTML = '';\n",
              "        dataTable['output_type'] = 'display_data';\n",
              "        await google.colab.output.renderOutput(dataTable, element);\n",
              "        const docLink = document.createElement('div');\n",
              "        docLink.innerHTML = docLinkHtml;\n",
              "        element.appendChild(docLink);\n",
              "      }\n",
              "    </script>\n",
              "  </div>\n",
              "\n",
              "\n",
              "<div id=\"df-9bbdd70f-f187-4e72-8b53-9690f9ca218a\">\n",
              "  <button class=\"colab-df-quickchart\" onclick=\"quickchart('df-9bbdd70f-f187-4e72-8b53-9690f9ca218a')\"\n",
              "            title=\"Suggest charts\"\n",
              "            style=\"display:none;\">\n",
              "\n",
              "<svg xmlns=\"http://www.w3.org/2000/svg\" height=\"24px\"viewBox=\"0 0 24 24\"\n",
              "     width=\"24px\">\n",
              "    <g>\n",
              "        <path d=\"M19 3H5c-1.1 0-2 .9-2 2v14c0 1.1.9 2 2 2h14c1.1 0 2-.9 2-2V5c0-1.1-.9-2-2-2zM9 17H7v-7h2v7zm4 0h-2V7h2v10zm4 0h-2v-4h2v4z\"/>\n",
              "    </g>\n",
              "</svg>\n",
              "  </button>\n",
              "\n",
              "<style>\n",
              "  .colab-df-quickchart {\n",
              "      --bg-color: #E8F0FE;\n",
              "      --fill-color: #1967D2;\n",
              "      --hover-bg-color: #E2EBFA;\n",
              "      --hover-fill-color: #174EA6;\n",
              "      --disabled-fill-color: #AAA;\n",
              "      --disabled-bg-color: #DDD;\n",
              "  }\n",
              "\n",
              "  [theme=dark] .colab-df-quickchart {\n",
              "      --bg-color: #3B4455;\n",
              "      --fill-color: #D2E3FC;\n",
              "      --hover-bg-color: #434B5C;\n",
              "      --hover-fill-color: #FFFFFF;\n",
              "      --disabled-bg-color: #3B4455;\n",
              "      --disabled-fill-color: #666;\n",
              "  }\n",
              "\n",
              "  .colab-df-quickchart {\n",
              "    background-color: var(--bg-color);\n",
              "    border: none;\n",
              "    border-radius: 50%;\n",
              "    cursor: pointer;\n",
              "    display: none;\n",
              "    fill: var(--fill-color);\n",
              "    height: 32px;\n",
              "    padding: 0;\n",
              "    width: 32px;\n",
              "  }\n",
              "\n",
              "  .colab-df-quickchart:hover {\n",
              "    background-color: var(--hover-bg-color);\n",
              "    box-shadow: 0 1px 2px rgba(60, 64, 67, 0.3), 0 1px 3px 1px rgba(60, 64, 67, 0.15);\n",
              "    fill: var(--button-hover-fill-color);\n",
              "  }\n",
              "\n",
              "  .colab-df-quickchart-complete:disabled,\n",
              "  .colab-df-quickchart-complete:disabled:hover {\n",
              "    background-color: var(--disabled-bg-color);\n",
              "    fill: var(--disabled-fill-color);\n",
              "    box-shadow: none;\n",
              "  }\n",
              "\n",
              "  .colab-df-spinner {\n",
              "    border: 2px solid var(--fill-color);\n",
              "    border-color: transparent;\n",
              "    border-bottom-color: var(--fill-color);\n",
              "    animation:\n",
              "      spin 1s steps(1) infinite;\n",
              "  }\n",
              "\n",
              "  @keyframes spin {\n",
              "    0% {\n",
              "      border-color: transparent;\n",
              "      border-bottom-color: var(--fill-color);\n",
              "      border-left-color: var(--fill-color);\n",
              "    }\n",
              "    20% {\n",
              "      border-color: transparent;\n",
              "      border-left-color: var(--fill-color);\n",
              "      border-top-color: var(--fill-color);\n",
              "    }\n",
              "    30% {\n",
              "      border-color: transparent;\n",
              "      border-left-color: var(--fill-color);\n",
              "      border-top-color: var(--fill-color);\n",
              "      border-right-color: var(--fill-color);\n",
              "    }\n",
              "    40% {\n",
              "      border-color: transparent;\n",
              "      border-right-color: var(--fill-color);\n",
              "      border-top-color: var(--fill-color);\n",
              "    }\n",
              "    60% {\n",
              "      border-color: transparent;\n",
              "      border-right-color: var(--fill-color);\n",
              "    }\n",
              "    80% {\n",
              "      border-color: transparent;\n",
              "      border-right-color: var(--fill-color);\n",
              "      border-bottom-color: var(--fill-color);\n",
              "    }\n",
              "    90% {\n",
              "      border-color: transparent;\n",
              "      border-bottom-color: var(--fill-color);\n",
              "    }\n",
              "  }\n",
              "</style>\n",
              "\n",
              "  <script>\n",
              "    async function quickchart(key) {\n",
              "      const quickchartButtonEl =\n",
              "        document.querySelector('#' + key + ' button');\n",
              "      quickchartButtonEl.disabled = true;  // To prevent multiple clicks.\n",
              "      quickchartButtonEl.classList.add('colab-df-spinner');\n",
              "      try {\n",
              "        const charts = await google.colab.kernel.invokeFunction(\n",
              "            'suggestCharts', [key], {});\n",
              "      } catch (error) {\n",
              "        console.error('Error during call to suggestCharts:', error);\n",
              "      }\n",
              "      quickchartButtonEl.classList.remove('colab-df-spinner');\n",
              "      quickchartButtonEl.classList.add('colab-df-quickchart-complete');\n",
              "    }\n",
              "    (() => {\n",
              "      let quickchartButtonEl =\n",
              "        document.querySelector('#df-9bbdd70f-f187-4e72-8b53-9690f9ca218a button');\n",
              "      quickchartButtonEl.style.display =\n",
              "        google.colab.kernel.accessAllowed ? 'block' : 'none';\n",
              "    })();\n",
              "  </script>\n",
              "</div>\n",
              "\n",
              "  <div id=\"id_fa27978e-42e2-48b6-a16f-19b94dc35db5\">\n",
              "    <style>\n",
              "      .colab-df-generate {\n",
              "        background-color: #E8F0FE;\n",
              "        border: none;\n",
              "        border-radius: 50%;\n",
              "        cursor: pointer;\n",
              "        display: none;\n",
              "        fill: #1967D2;\n",
              "        height: 32px;\n",
              "        padding: 0 0 0 0;\n",
              "        width: 32px;\n",
              "      }\n",
              "\n",
              "      .colab-df-generate:hover {\n",
              "        background-color: #E2EBFA;\n",
              "        box-shadow: 0px 1px 2px rgba(60, 64, 67, 0.3), 0px 1px 3px 1px rgba(60, 64, 67, 0.15);\n",
              "        fill: #174EA6;\n",
              "      }\n",
              "\n",
              "      [theme=dark] .colab-df-generate {\n",
              "        background-color: #3B4455;\n",
              "        fill: #D2E3FC;\n",
              "      }\n",
              "\n",
              "      [theme=dark] .colab-df-generate:hover {\n",
              "        background-color: #434B5C;\n",
              "        box-shadow: 0px 1px 3px 1px rgba(0, 0, 0, 0.15);\n",
              "        filter: drop-shadow(0px 1px 2px rgba(0, 0, 0, 0.3));\n",
              "        fill: #FFFFFF;\n",
              "      }\n",
              "    </style>\n",
              "    <button class=\"colab-df-generate\" onclick=\"generateWithVariable('df')\"\n",
              "            title=\"Generate code using this dataframe.\"\n",
              "            style=\"display:none;\">\n",
              "\n",
              "  <svg xmlns=\"http://www.w3.org/2000/svg\" height=\"24px\"viewBox=\"0 0 24 24\"\n",
              "       width=\"24px\">\n",
              "    <path d=\"M7,19H8.4L18.45,9,17,7.55,7,17.6ZM5,21V16.75L18.45,3.32a2,2,0,0,1,2.83,0l1.4,1.43a1.91,1.91,0,0,1,.58,1.4,1.91,1.91,0,0,1-.58,1.4L9.25,21ZM18.45,9,17,7.55Zm-12,3A5.31,5.31,0,0,0,4.9,8.1,5.31,5.31,0,0,0,1,6.5,5.31,5.31,0,0,0,4.9,4.9,5.31,5.31,0,0,0,6.5,1,5.31,5.31,0,0,0,8.1,4.9,5.31,5.31,0,0,0,12,6.5,5.46,5.46,0,0,0,6.5,12Z\"/>\n",
              "  </svg>\n",
              "    </button>\n",
              "    <script>\n",
              "      (() => {\n",
              "      const buttonEl =\n",
              "        document.querySelector('#id_fa27978e-42e2-48b6-a16f-19b94dc35db5 button.colab-df-generate');\n",
              "      buttonEl.style.display =\n",
              "        google.colab.kernel.accessAllowed ? 'block' : 'none';\n",
              "\n",
              "      buttonEl.onclick = () => {\n",
              "        google.colab.notebook.generateWithVariable('df');\n",
              "      }\n",
              "      })();\n",
              "    </script>\n",
              "  </div>\n",
              "\n",
              "    </div>\n",
              "  </div>\n"
            ]
          },
          "metadata": {},
          "execution_count": 76
        }
      ]
    },
    {
      "cell_type": "code",
      "source": [
        "# 중복된 데이터를  제거\n",
        "df = df.drop_duplicates(subset='사람문장1').reset_index(drop=True)\n",
        "print(len(df))"
      ],
      "metadata": {
        "colab": {
          "base_uri": "https://localhost:8080/"
        },
        "id": "mOGVkDZxJmRd",
        "outputId": "969bfc35-d1be-4066-ebef-3d201cafb5a9"
      },
      "execution_count": null,
      "outputs": [
        {
          "output_type": "stream",
          "name": "stdout",
          "text": [
            "42670\n"
          ]
        }
      ]
    },
    {
      "cell_type": "code",
      "source": [
        "# 데이터셋의 특수 문자 제거\n",
        "df['사람문장1'] = df['사람문장1'].str.replace('[^가-힣]', ' ')"
      ],
      "metadata": {
        "colab": {
          "base_uri": "https://localhost:8080/"
        },
        "id": "nvIaFsPcKcq7",
        "outputId": "b4f65562-6afc-4a79-e853-6faab13fc2fc"
      },
      "execution_count": null,
      "outputs": [
        {
          "output_type": "stream",
          "name": "stderr",
          "text": [
            "<ipython-input-78-9a15227c67bc>:2: FutureWarning: The default value of regex will change from True to False in a future version.\n",
            "  df['사람문장1'] = df['사람문장1'].str.replace('[^가-힣]', ' ')\n"
          ]
        }
      ]
    },
    {
      "cell_type": "code",
      "source": [
        "# 데어터셋의 길이가 너무 짧은 단어 제거(단어 길이가 1이하)\n",
        "df['사람문장1'] = df['사람문장1'].apply(lambda x: ' '.join([word for word in x.split() if len(word) > 1]))\n",
        "df"
      ],
      "metadata": {
        "colab": {
          "base_uri": "https://localhost:8080/",
          "height": 424
        },
        "id": "GeXoP-q6K2Yg",
        "outputId": "a62e3fe6-3b8b-4730-f3ce-9aa262aa2279"
      },
      "execution_count": null,
      "outputs": [
        {
          "output_type": "execute_result",
          "data": {
            "text/plain": [
              "                                                  사람문장1\n",
              "0        지금까지 힘들게 일했는데 은퇴해서 돈이 없다고 하니 자식이 화를 내서 상처를 받았어\n",
              "1          친구한테 은퇴할 거라고 얘기했더니 앞으로 먹고 거냐면서 비웃더라고 기분이 나빴어\n",
              "2         친구한테 은퇴한다고 했더니 그게 말이나 되는 거냐며 한심한 사람 취급해서 서운했어\n",
              "3      그동안 열심히 달려와서 쉬려고 하는데 은퇴한다고 하니 주변에서 말려서 기분이 좋지 않아\n",
              "4           많은 고민 은퇴를 결심했는데 주변에서 다들 섣부른 생각이라고 해서 마음이 좋아\n",
              "...                                                 ...\n",
              "42665        나이가 먹고 이제 돈도 벌어 오니까 어떻게 살아가야 할지 막막해 능력도 없고\n",
              "42666               몸이 많이 약해졌나 이제 전과 같이 일하지 못할 같아 너무 짜증\n",
              "42667      이제 어떻게 해야 할지 모르겠어 남편도 그렇고 노후 준비도 되어서 미래가 걱정돼\n",
              "42668     몇십 년을 함께 살았던 남편과 이혼했어 그동안의 세월에 배신감을 느끼고 너무 화가\n",
              "42669     남편과 결혼한 사십 년이야 이제 사람 만나는 것도 버겁고 알던 사람도 점점 사라져\n",
              "\n",
              "[42670 rows x 1 columns]"
            ],
            "text/html": [
              "\n",
              "  <div id=\"df-b1b0d857-57b2-4419-80b7-778d91ef4927\" class=\"colab-df-container\">\n",
              "    <div>\n",
              "<style scoped>\n",
              "    .dataframe tbody tr th:only-of-type {\n",
              "        vertical-align: middle;\n",
              "    }\n",
              "\n",
              "    .dataframe tbody tr th {\n",
              "        vertical-align: top;\n",
              "    }\n",
              "\n",
              "    .dataframe thead th {\n",
              "        text-align: right;\n",
              "    }\n",
              "</style>\n",
              "<table border=\"1\" class=\"dataframe\">\n",
              "  <thead>\n",
              "    <tr style=\"text-align: right;\">\n",
              "      <th></th>\n",
              "      <th>사람문장1</th>\n",
              "    </tr>\n",
              "  </thead>\n",
              "  <tbody>\n",
              "    <tr>\n",
              "      <th>0</th>\n",
              "      <td>지금까지 힘들게 일했는데 은퇴해서 돈이 없다고 하니 자식이 화를 내서 상처를 받았어</td>\n",
              "    </tr>\n",
              "    <tr>\n",
              "      <th>1</th>\n",
              "      <td>친구한테 은퇴할 거라고 얘기했더니 앞으로 먹고 거냐면서 비웃더라고 기분이 나빴어</td>\n",
              "    </tr>\n",
              "    <tr>\n",
              "      <th>2</th>\n",
              "      <td>친구한테 은퇴한다고 했더니 그게 말이나 되는 거냐며 한심한 사람 취급해서 서운했어</td>\n",
              "    </tr>\n",
              "    <tr>\n",
              "      <th>3</th>\n",
              "      <td>그동안 열심히 달려와서 쉬려고 하는데 은퇴한다고 하니 주변에서 말려서 기분이 좋지 않아</td>\n",
              "    </tr>\n",
              "    <tr>\n",
              "      <th>4</th>\n",
              "      <td>많은 고민 은퇴를 결심했는데 주변에서 다들 섣부른 생각이라고 해서 마음이 좋아</td>\n",
              "    </tr>\n",
              "    <tr>\n",
              "      <th>...</th>\n",
              "      <td>...</td>\n",
              "    </tr>\n",
              "    <tr>\n",
              "      <th>42665</th>\n",
              "      <td>나이가 먹고 이제 돈도 벌어 오니까 어떻게 살아가야 할지 막막해 능력도 없고</td>\n",
              "    </tr>\n",
              "    <tr>\n",
              "      <th>42666</th>\n",
              "      <td>몸이 많이 약해졌나 이제 전과 같이 일하지 못할 같아 너무 짜증</td>\n",
              "    </tr>\n",
              "    <tr>\n",
              "      <th>42667</th>\n",
              "      <td>이제 어떻게 해야 할지 모르겠어 남편도 그렇고 노후 준비도 되어서 미래가 걱정돼</td>\n",
              "    </tr>\n",
              "    <tr>\n",
              "      <th>42668</th>\n",
              "      <td>몇십 년을 함께 살았던 남편과 이혼했어 그동안의 세월에 배신감을 느끼고 너무 화가</td>\n",
              "    </tr>\n",
              "    <tr>\n",
              "      <th>42669</th>\n",
              "      <td>남편과 결혼한 사십 년이야 이제 사람 만나는 것도 버겁고 알던 사람도 점점 사라져</td>\n",
              "    </tr>\n",
              "  </tbody>\n",
              "</table>\n",
              "<p>42670 rows × 1 columns</p>\n",
              "</div>\n",
              "    <div class=\"colab-df-buttons\">\n",
              "\n",
              "  <div class=\"colab-df-container\">\n",
              "    <button class=\"colab-df-convert\" onclick=\"convertToInteractive('df-b1b0d857-57b2-4419-80b7-778d91ef4927')\"\n",
              "            title=\"Convert this dataframe to an interactive table.\"\n",
              "            style=\"display:none;\">\n",
              "\n",
              "  <svg xmlns=\"http://www.w3.org/2000/svg\" height=\"24px\" viewBox=\"0 -960 960 960\">\n",
              "    <path d=\"M120-120v-720h720v720H120Zm60-500h600v-160H180v160Zm220 220h160v-160H400v160Zm0 220h160v-160H400v160ZM180-400h160v-160H180v160Zm440 0h160v-160H620v160ZM180-180h160v-160H180v160Zm440 0h160v-160H620v160Z\"/>\n",
              "  </svg>\n",
              "    </button>\n",
              "\n",
              "  <style>\n",
              "    .colab-df-container {\n",
              "      display:flex;\n",
              "      gap: 12px;\n",
              "    }\n",
              "\n",
              "    .colab-df-convert {\n",
              "      background-color: #E8F0FE;\n",
              "      border: none;\n",
              "      border-radius: 50%;\n",
              "      cursor: pointer;\n",
              "      display: none;\n",
              "      fill: #1967D2;\n",
              "      height: 32px;\n",
              "      padding: 0 0 0 0;\n",
              "      width: 32px;\n",
              "    }\n",
              "\n",
              "    .colab-df-convert:hover {\n",
              "      background-color: #E2EBFA;\n",
              "      box-shadow: 0px 1px 2px rgba(60, 64, 67, 0.3), 0px 1px 3px 1px rgba(60, 64, 67, 0.15);\n",
              "      fill: #174EA6;\n",
              "    }\n",
              "\n",
              "    .colab-df-buttons div {\n",
              "      margin-bottom: 4px;\n",
              "    }\n",
              "\n",
              "    [theme=dark] .colab-df-convert {\n",
              "      background-color: #3B4455;\n",
              "      fill: #D2E3FC;\n",
              "    }\n",
              "\n",
              "    [theme=dark] .colab-df-convert:hover {\n",
              "      background-color: #434B5C;\n",
              "      box-shadow: 0px 1px 3px 1px rgba(0, 0, 0, 0.15);\n",
              "      filter: drop-shadow(0px 1px 2px rgba(0, 0, 0, 0.3));\n",
              "      fill: #FFFFFF;\n",
              "    }\n",
              "  </style>\n",
              "\n",
              "    <script>\n",
              "      const buttonEl =\n",
              "        document.querySelector('#df-b1b0d857-57b2-4419-80b7-778d91ef4927 button.colab-df-convert');\n",
              "      buttonEl.style.display =\n",
              "        google.colab.kernel.accessAllowed ? 'block' : 'none';\n",
              "\n",
              "      async function convertToInteractive(key) {\n",
              "        const element = document.querySelector('#df-b1b0d857-57b2-4419-80b7-778d91ef4927');\n",
              "        const dataTable =\n",
              "          await google.colab.kernel.invokeFunction('convertToInteractive',\n",
              "                                                    [key], {});\n",
              "        if (!dataTable) return;\n",
              "\n",
              "        const docLinkHtml = 'Like what you see? Visit the ' +\n",
              "          '<a target=\"_blank\" href=https://colab.research.google.com/notebooks/data_table.ipynb>data table notebook</a>'\n",
              "          + ' to learn more about interactive tables.';\n",
              "        element.innerHTML = '';\n",
              "        dataTable['output_type'] = 'display_data';\n",
              "        await google.colab.output.renderOutput(dataTable, element);\n",
              "        const docLink = document.createElement('div');\n",
              "        docLink.innerHTML = docLinkHtml;\n",
              "        element.appendChild(docLink);\n",
              "      }\n",
              "    </script>\n",
              "  </div>\n",
              "\n",
              "\n",
              "<div id=\"df-249fc636-5a7a-4a35-9462-74e53a27daf7\">\n",
              "  <button class=\"colab-df-quickchart\" onclick=\"quickchart('df-249fc636-5a7a-4a35-9462-74e53a27daf7')\"\n",
              "            title=\"Suggest charts\"\n",
              "            style=\"display:none;\">\n",
              "\n",
              "<svg xmlns=\"http://www.w3.org/2000/svg\" height=\"24px\"viewBox=\"0 0 24 24\"\n",
              "     width=\"24px\">\n",
              "    <g>\n",
              "        <path d=\"M19 3H5c-1.1 0-2 .9-2 2v14c0 1.1.9 2 2 2h14c1.1 0 2-.9 2-2V5c0-1.1-.9-2-2-2zM9 17H7v-7h2v7zm4 0h-2V7h2v10zm4 0h-2v-4h2v4z\"/>\n",
              "    </g>\n",
              "</svg>\n",
              "  </button>\n",
              "\n",
              "<style>\n",
              "  .colab-df-quickchart {\n",
              "      --bg-color: #E8F0FE;\n",
              "      --fill-color: #1967D2;\n",
              "      --hover-bg-color: #E2EBFA;\n",
              "      --hover-fill-color: #174EA6;\n",
              "      --disabled-fill-color: #AAA;\n",
              "      --disabled-bg-color: #DDD;\n",
              "  }\n",
              "\n",
              "  [theme=dark] .colab-df-quickchart {\n",
              "      --bg-color: #3B4455;\n",
              "      --fill-color: #D2E3FC;\n",
              "      --hover-bg-color: #434B5C;\n",
              "      --hover-fill-color: #FFFFFF;\n",
              "      --disabled-bg-color: #3B4455;\n",
              "      --disabled-fill-color: #666;\n",
              "  }\n",
              "\n",
              "  .colab-df-quickchart {\n",
              "    background-color: var(--bg-color);\n",
              "    border: none;\n",
              "    border-radius: 50%;\n",
              "    cursor: pointer;\n",
              "    display: none;\n",
              "    fill: var(--fill-color);\n",
              "    height: 32px;\n",
              "    padding: 0;\n",
              "    width: 32px;\n",
              "  }\n",
              "\n",
              "  .colab-df-quickchart:hover {\n",
              "    background-color: var(--hover-bg-color);\n",
              "    box-shadow: 0 1px 2px rgba(60, 64, 67, 0.3), 0 1px 3px 1px rgba(60, 64, 67, 0.15);\n",
              "    fill: var(--button-hover-fill-color);\n",
              "  }\n",
              "\n",
              "  .colab-df-quickchart-complete:disabled,\n",
              "  .colab-df-quickchart-complete:disabled:hover {\n",
              "    background-color: var(--disabled-bg-color);\n",
              "    fill: var(--disabled-fill-color);\n",
              "    box-shadow: none;\n",
              "  }\n",
              "\n",
              "  .colab-df-spinner {\n",
              "    border: 2px solid var(--fill-color);\n",
              "    border-color: transparent;\n",
              "    border-bottom-color: var(--fill-color);\n",
              "    animation:\n",
              "      spin 1s steps(1) infinite;\n",
              "  }\n",
              "\n",
              "  @keyframes spin {\n",
              "    0% {\n",
              "      border-color: transparent;\n",
              "      border-bottom-color: var(--fill-color);\n",
              "      border-left-color: var(--fill-color);\n",
              "    }\n",
              "    20% {\n",
              "      border-color: transparent;\n",
              "      border-left-color: var(--fill-color);\n",
              "      border-top-color: var(--fill-color);\n",
              "    }\n",
              "    30% {\n",
              "      border-color: transparent;\n",
              "      border-left-color: var(--fill-color);\n",
              "      border-top-color: var(--fill-color);\n",
              "      border-right-color: var(--fill-color);\n",
              "    }\n",
              "    40% {\n",
              "      border-color: transparent;\n",
              "      border-right-color: var(--fill-color);\n",
              "      border-top-color: var(--fill-color);\n",
              "    }\n",
              "    60% {\n",
              "      border-color: transparent;\n",
              "      border-right-color: var(--fill-color);\n",
              "    }\n",
              "    80% {\n",
              "      border-color: transparent;\n",
              "      border-right-color: var(--fill-color);\n",
              "      border-bottom-color: var(--fill-color);\n",
              "    }\n",
              "    90% {\n",
              "      border-color: transparent;\n",
              "      border-bottom-color: var(--fill-color);\n",
              "    }\n",
              "  }\n",
              "</style>\n",
              "\n",
              "  <script>\n",
              "    async function quickchart(key) {\n",
              "      const quickchartButtonEl =\n",
              "        document.querySelector('#' + key + ' button');\n",
              "      quickchartButtonEl.disabled = true;  // To prevent multiple clicks.\n",
              "      quickchartButtonEl.classList.add('colab-df-spinner');\n",
              "      try {\n",
              "        const charts = await google.colab.kernel.invokeFunction(\n",
              "            'suggestCharts', [key], {});\n",
              "      } catch (error) {\n",
              "        console.error('Error during call to suggestCharts:', error);\n",
              "      }\n",
              "      quickchartButtonEl.classList.remove('colab-df-spinner');\n",
              "      quickchartButtonEl.classList.add('colab-df-quickchart-complete');\n",
              "    }\n",
              "    (() => {\n",
              "      let quickchartButtonEl =\n",
              "        document.querySelector('#df-249fc636-5a7a-4a35-9462-74e53a27daf7 button');\n",
              "      quickchartButtonEl.style.display =\n",
              "        google.colab.kernel.accessAllowed ? 'block' : 'none';\n",
              "    })();\n",
              "  </script>\n",
              "</div>\n",
              "\n",
              "  <div id=\"id_f873958a-9576-48fb-b6a2-6fbe8cb17166\">\n",
              "    <style>\n",
              "      .colab-df-generate {\n",
              "        background-color: #E8F0FE;\n",
              "        border: none;\n",
              "        border-radius: 50%;\n",
              "        cursor: pointer;\n",
              "        display: none;\n",
              "        fill: #1967D2;\n",
              "        height: 32px;\n",
              "        padding: 0 0 0 0;\n",
              "        width: 32px;\n",
              "      }\n",
              "\n",
              "      .colab-df-generate:hover {\n",
              "        background-color: #E2EBFA;\n",
              "        box-shadow: 0px 1px 2px rgba(60, 64, 67, 0.3), 0px 1px 3px 1px rgba(60, 64, 67, 0.15);\n",
              "        fill: #174EA6;\n",
              "      }\n",
              "\n",
              "      [theme=dark] .colab-df-generate {\n",
              "        background-color: #3B4455;\n",
              "        fill: #D2E3FC;\n",
              "      }\n",
              "\n",
              "      [theme=dark] .colab-df-generate:hover {\n",
              "        background-color: #434B5C;\n",
              "        box-shadow: 0px 1px 3px 1px rgba(0, 0, 0, 0.15);\n",
              "        filter: drop-shadow(0px 1px 2px rgba(0, 0, 0, 0.3));\n",
              "        fill: #FFFFFF;\n",
              "      }\n",
              "    </style>\n",
              "    <button class=\"colab-df-generate\" onclick=\"generateWithVariable('df')\"\n",
              "            title=\"Generate code using this dataframe.\"\n",
              "            style=\"display:none;\">\n",
              "\n",
              "  <svg xmlns=\"http://www.w3.org/2000/svg\" height=\"24px\"viewBox=\"0 0 24 24\"\n",
              "       width=\"24px\">\n",
              "    <path d=\"M7,19H8.4L18.45,9,17,7.55,7,17.6ZM5,21V16.75L18.45,3.32a2,2,0,0,1,2.83,0l1.4,1.43a1.91,1.91,0,0,1,.58,1.4,1.91,1.91,0,0,1-.58,1.4L9.25,21ZM18.45,9,17,7.55Zm-12,3A5.31,5.31,0,0,0,4.9,8.1,5.31,5.31,0,0,0,1,6.5,5.31,5.31,0,0,0,4.9,4.9,5.31,5.31,0,0,0,6.5,1,5.31,5.31,0,0,0,8.1,4.9,5.31,5.31,0,0,0,12,6.5,5.46,5.46,0,0,0,6.5,12Z\"/>\n",
              "  </svg>\n",
              "    </button>\n",
              "    <script>\n",
              "      (() => {\n",
              "      const buttonEl =\n",
              "        document.querySelector('#id_f873958a-9576-48fb-b6a2-6fbe8cb17166 button.colab-df-generate');\n",
              "      buttonEl.style.display =\n",
              "        google.colab.kernel.accessAllowed ? 'block' : 'none';\n",
              "\n",
              "      buttonEl.onclick = () => {\n",
              "        google.colab.notebook.generateWithVariable('df');\n",
              "      }\n",
              "      })();\n",
              "    </script>\n",
              "  </div>\n",
              "\n",
              "    </div>\n",
              "  </div>\n"
            ]
          },
          "metadata": {},
          "execution_count": 79
        }
      ]
    },
    {
      "cell_type": "markdown",
      "source": [
        "# 불용어 제거"
      ],
      "metadata": {
        "id": "KwQudGPaL9LG"
      }
    },
    {
      "cell_type": "code",
      "source": [
        "stopword = ['얻지','범한','즈음','가지','자주','이제','붙이','도하','일로','거나','로부터','날로','이내','다운','내지','로서','로써']\n",
        "df['사람문장1'] = df['사람문장1'].apply(lambda x: ' '.join([word for word in x.split() if word not in stopword]))\n",
        "\n",
        "df['사람문장1']"
      ],
      "metadata": {
        "colab": {
          "base_uri": "https://localhost:8080/"
        },
        "id": "zh64yiK_NlMZ",
        "outputId": "11751d06-a5fc-4df6-bf2c-80122cc89b3f"
      },
      "execution_count": null,
      "outputs": [
        {
          "output_type": "execute_result",
          "data": {
            "text/plain": [
              "0          지금까지 힘들게 일했는데 은퇴해서 돈이 없다고 하니 자식이 화를 내서 상처를 받았어\n",
              "1            친구한테 은퇴할 거라고 얘기했더니 앞으로 먹고 거냐면서 비웃더라고 기분이 나빴어\n",
              "2           친구한테 은퇴한다고 했더니 그게 말이나 되는 거냐며 한심한 사람 취급해서 서운했어\n",
              "3        그동안 열심히 달려와서 쉬려고 하는데 은퇴한다고 하니 주변에서 말려서 기분이 좋지 않아\n",
              "4             많은 고민 은퇴를 결심했는데 주변에서 다들 섣부른 생각이라고 해서 마음이 좋아\n",
              "                               ...                       \n",
              "42665             나이가 먹고 돈도 벌어 오니까 어떻게 살아가야 할지 막막해 능력도 없고\n",
              "42666                    몸이 많이 약해졌나 전과 같이 일하지 못할 같아 너무 짜증\n",
              "42667           어떻게 해야 할지 모르겠어 남편도 그렇고 노후 준비도 되어서 미래가 걱정돼\n",
              "42668       몇십 년을 함께 살았던 남편과 이혼했어 그동안의 세월에 배신감을 느끼고 너무 화가\n",
              "42669          남편과 결혼한 사십 년이야 사람 만나는 것도 버겁고 알던 사람도 점점 사라져\n",
              "Name: 사람문장1, Length: 42670, dtype: object"
            ]
          },
          "metadata": {},
          "execution_count": 88
        }
      ]
    },
    {
      "cell_type": "markdown",
      "source": [
        "# 토큰화"
      ],
      "metadata": {
        "id": "jvdM6m4wOwj4"
      }
    },
    {
      "cell_type": "code",
      "source": [
        "tokenized_doc = df['사람문장1'].apply(lambda x: x.split())\n",
        "tokenized_doc"
      ],
      "metadata": {
        "colab": {
          "base_uri": "https://localhost:8080/"
        },
        "id": "jzGbtBcBO4h1",
        "outputId": "75709a2c-5129-457a-f3b7-2459972a70eb"
      },
      "execution_count": null,
      "outputs": [
        {
          "output_type": "execute_result",
          "data": {
            "text/plain": [
              "0        [지금까지, 힘들게, 일했는데, 은퇴해서, 돈이, 없다고, 하니, 자식이, 화를, ...\n",
              "1        [친구한테, 은퇴할, 거라고, 얘기했더니, 앞으로, 먹고, 거냐면서, 비웃더라고, ...\n",
              "2        [친구한테, 은퇴한다고, 했더니, 그게, 말이나, 되는, 거냐며, 한심한, 사람, ...\n",
              "3        [그동안, 열심히, 달려와서, 쉬려고, 하는데, 은퇴한다고, 하니, 주변에서, 말려...\n",
              "4        [많은, 고민, 은퇴를, 결심했는데, 주변에서, 다들, 섣부른, 생각이라고, 해서,...\n",
              "                               ...                        \n",
              "42665    [나이가, 먹고, 돈도, 벌어, 오니까, 어떻게, 살아가야, 할지, 막막해, 능력도...\n",
              "42666          [몸이, 많이, 약해졌나, 전과, 같이, 일하지, 못할, 같아, 너무, 짜증]\n",
              "42667    [어떻게, 해야, 할지, 모르겠어, 남편도, 그렇고, 노후, 준비도, 되어서, 미래...\n",
              "42668    [몇십, 년을, 함께, 살았던, 남편과, 이혼했어, 그동안의, 세월에, 배신감을, ...\n",
              "42669    [남편과, 결혼한, 사십, 년이야, 사람, 만나는, 것도, 버겁고, 알던, 사람도,...\n",
              "Name: 사람문장1, Length: 42670, dtype: object"
            ]
          },
          "metadata": {},
          "execution_count": 89
        }
      ]
    },
    {
      "cell_type": "code",
      "source": [
        "tokenized_doc =  tokenized_doc.to_list()\n",
        "len(tokenized_doc)"
      ],
      "metadata": {
        "colab": {
          "base_uri": "https://localhost:8080/"
        },
        "id": "53gldQkYPQvR",
        "outputId": "a21fcbd9-fa28-47aa-82c6-dc2377b52d1f"
      },
      "execution_count": null,
      "outputs": [
        {
          "output_type": "execute_result",
          "data": {
            "text/plain": [
              "42670"
            ]
          },
          "metadata": {},
          "execution_count": 90
        }
      ]
    },
    {
      "cell_type": "code",
      "source": [
        "tokenizer = Tokenizer()\n",
        "tokenizer.fit_on_texts(tokenized_doc)"
      ],
      "metadata": {
        "id": "jQhYP9HYPU81"
      },
      "execution_count": null,
      "outputs": []
    },
    {
      "cell_type": "code",
      "source": [
        "word2idx = tokenizer.word_index\n",
        "idx2word =  {value:key for key, value in word2idx.items()}\n",
        "encoded = tokenizer.texts_to_sequences(tokenized_doc)"
      ],
      "metadata": {
        "id": "kIRm1nfcPZgS"
      },
      "execution_count": null,
      "outputs": []
    },
    {
      "cell_type": "code",
      "source": [
        "vocab_size = len(word2idx)\n",
        "print(f'단어 사전의 크기: {vocab_size}')"
      ],
      "metadata": {
        "colab": {
          "base_uri": "https://localhost:8080/"
        },
        "id": "XBqZRfsxPoyl",
        "outputId": "eee38154-cc79-4f1f-d894-93b2ea6e4832"
      },
      "execution_count": null,
      "outputs": [
        {
          "output_type": "stream",
          "name": "stdout",
          "text": [
            "단어 사전의 크기: 48110\n"
          ]
        }
      ]
    },
    {
      "cell_type": "code",
      "source": [
        "print(encoded[0])"
      ],
      "metadata": {
        "colab": {
          "base_uri": "https://localhost:8080/"
        },
        "id": "yU-_6dPdPsn-",
        "outputId": "6450c4c1-1c4c-446f-fbc5-e9a243fd4a94"
      },
      "execution_count": null,
      "outputs": [
        {
          "output_type": "stream",
          "name": "stdout",
          "text": [
            "[462, 598, 1744, 7185, 54, 346, 241, 693, 209, 795, 537, 89]\n"
          ]
        }
      ]
    },
    {
      "cell_type": "markdown",
      "source": [
        "# Skip-gram"
      ],
      "metadata": {
        "id": "1SRs6D7HP1C-"
      }
    },
    {
      "cell_type": "code",
      "source": [
        "training_dataset = [skipgrams(sample, vocabulary_size=vocab_size,  window_size=10) for sample in encoded[:100]]\n",
        "print(f'전체 샘플 수 :{len(skip_gram)}')"
      ],
      "metadata": {
        "colab": {
          "base_uri": "https://localhost:8080/"
        },
        "id": "P58_cWpoQBph",
        "outputId": "7ceb8a09-1d7b-4f08-fd2b-8d455399156e"
      },
      "execution_count": null,
      "outputs": [
        {
          "output_type": "stream",
          "name": "stdout",
          "text": [
            "전체 샘플 수 :100\n"
          ]
        }
      ]
    },
    {
      "cell_type": "code",
      "source": [
        "pairs, labels = skip_gram[0][0], skip_gram[0][1]\n",
        "print(f'3 pairs{pairs[:3]}')\n",
        "print(f'3 pairs{labels[:3]}')"
      ],
      "metadata": {
        "colab": {
          "base_uri": "https://localhost:8080/"
        },
        "id": "WJAhKrQSQWwO",
        "outputId": "2c866a7a-20a4-426b-962b-f0af2e74025e"
      },
      "execution_count": null,
      "outputs": [
        {
          "output_type": "stream",
          "name": "stdout",
          "text": [
            "3 pairs[[795, 18853], [693, 46471], [241, 346]]\n",
            "3 pairs[0, 0, 1]\n"
          ]
        }
      ]
    },
    {
      "cell_type": "code",
      "source": [
        "print(len(pairs))\n",
        "print(len(labels))"
      ],
      "metadata": {
        "colab": {
          "base_uri": "https://localhost:8080/"
        },
        "id": "RBlLqzRzQqgR",
        "outputId": "d10772c7-c4e6-4a3c-e522-28998622990a"
      },
      "execution_count": null,
      "outputs": [
        {
          "output_type": "stream",
          "name": "stdout",
          "text": [
            "260\n",
            "260\n"
          ]
        }
      ]
    },
    {
      "cell_type": "code",
      "source": [
        "for i in range(5):\n",
        "    print('{:s}({:d}, {:s} {:d}) -> {:d}'.format(\n",
        "        idx2word[pairs[i][0]], pairs[i][0],\n",
        "        idx2word[pairs[i][1]], pairs[i][1],\n",
        "        labels[i]\n",
        "    ))"
      ],
      "metadata": {
        "colab": {
          "base_uri": "https://localhost:8080/"
        },
        "id": "pedz3hS5QuBd",
        "outputId": "b9f04df3-c98b-49ad-eb8b-fd2c2a75e449"
      },
      "execution_count": null,
      "outputs": [
        {
          "output_type": "stream",
          "name": "stdout",
          "text": [
            "내서(795, 주더라고 18853) -> 0\n",
            "자식이(693, 유언을 46471) -> 0\n",
            "하니(241, 없다고 346) -> 1\n",
            "자식이(693, 페이퍼를 31871) -> 0\n",
            "지금까지(462, 늙으신 8131) -> 0\n"
          ]
        }
      ]
    },
    {
      "cell_type": "markdown",
      "source": [
        "# 단어 임베딩 모델 구현"
      ],
      "metadata": {
        "id": "CWrX77QFQxfr"
      }
    },
    {
      "cell_type": "code",
      "source": [
        "embedding_dim = 100\n",
        "\n",
        "w_inputs = Input(shape=(1,), dtype='int32')\n",
        "word_embedding = Embedding(vocab_size, embedding_dim)(w_inputs)\n",
        "\n",
        "c_inputs = Input(shape=(1,), dtype='int32')\n",
        "context_embedding = Embedding(vocab_size, embedding_dim)(c_inputs)"
      ],
      "metadata": {
        "id": "SWZ1BlSnREir"
      },
      "execution_count": null,
      "outputs": []
    },
    {
      "cell_type": "code",
      "source": [
        "dot_product = Dot(axes=2)([word_embedding, context_embedding])\n",
        "dot_product = Reshape((1,),  input_shape=(1,1))(dot_product)\n",
        "output = Activation('sigmoid')(dot_product)\n",
        "\n",
        "model = Model(inputs=[w_inputs, c_inputs], outputs=output)"
      ],
      "metadata": {
        "id": "ivdM6Nn7RZk4"
      },
      "execution_count": null,
      "outputs": []
    },
    {
      "cell_type": "code",
      "source": [
        "model.compile(loss='binary_crossentropy', optimizer='adam')"
      ],
      "metadata": {
        "id": "dNYnhqxxR5OM"
      },
      "execution_count": null,
      "outputs": []
    },
    {
      "cell_type": "code",
      "source": [
        "plot_model(model, to_file='file.png', show_shapes=True, show_layer_names=True)"
      ],
      "metadata": {
        "colab": {
          "base_uri": "https://localhost:8080/",
          "height": 533
        },
        "id": "ruIk_J9wSCjm",
        "outputId": "2838b696-d6f1-4756-9af4-8b5d2771b8c9"
      },
      "execution_count": null,
      "outputs": [
        {
          "output_type": "execute_result",
          "data": {
            "image/png": "[encoded data removed]",
            "text/plain": [
              "<IPython.core.display.Image object>"
            ]
          },
          "metadata": {},
          "execution_count": 122
        }
      ]
    },
    {
      "cell_type": "code",
      "source": [
        "for epoch in range(100):\n",
        "    loss=0\n",
        "    for _,  elem in enumerate(training_dataset):\n",
        "        first_elem = np.array(list(zip(*elem[0]))[0], dtype='int32')\n",
        "        second_elem = np.array(list(zip(*elem[0]))[1], dtype='int32')\n",
        "        labels = np.array(elem[1], dtype='int32')\n",
        "        X = [first_elem, second_elem]\n",
        "        Y = labels\n",
        "        loss += model.train_on_batch(X,Y)\n",
        "    print('Epoch:', epoch+1, 'Loss', loss)"
      ],
      "metadata": {
        "colab": {
          "base_uri": "https://localhost:8080/"
        },
        "id": "B4vYh1uxSOMR",
        "outputId": "31f85388-9d1a-4983-e92c-1186afff8264"
      },
      "execution_count": null,
      "outputs": [
        {
          "output_type": "stream",
          "name": "stdout",
          "text": [
            "Epoch: 1 Loss 69.31167310476303\n",
            "Epoch: 2 Loss 68.49591612815857\n",
            "Epoch: 3 Loss 66.97906082868576\n",
            "Epoch: 4 Loss 64.08150601387024\n",
            "Epoch: 5 Loss 59.506905019283295\n",
            "Epoch: 6 Loss 53.519439935684204\n",
            "Epoch: 7 Loss 46.73660483956337\n",
            "Epoch: 8 Loss 39.809666216373444\n",
            "Epoch: 9 Loss 33.24896486103535\n",
            "Epoch: 10 Loss 27.382252097129822\n",
            "Epoch: 11 Loss 22.364541471004486\n",
            "Epoch: 12 Loss 18.21302806586027\n",
            "Epoch: 13 Loss 14.85524045675993\n",
            "Epoch: 14 Loss 12.175488516688347\n",
            "Epoch: 15 Loss 10.049023389816284\n",
            "Epoch: 16 Loss 8.361482545733452\n",
            "Epoch: 17 Loss 7.016802720725536\n",
            "Epoch: 18 Loss 5.93823959864676\n",
            "Epoch: 19 Loss 5.066187495365739\n",
            "Epoch: 20 Loss 4.355013048276305\n",
            "Epoch: 21 Loss 3.769970666617155\n",
            "Epoch: 22 Loss 3.284596398472786\n",
            "Epoch: 23 Loss 2.8786535654217005\n",
            "Epoch: 24 Loss 2.536568947136402\n",
            "Epoch: 25 Loss 2.246265411376953\n",
            "Epoch: 26 Loss 1.9982980387285352\n",
            "Epoch: 27 Loss 1.7852160427719355\n",
            "Epoch: 28 Loss 1.6010911762714386\n",
            "Epoch: 29 Loss 1.4411674994044006\n",
            "Epoch: 30 Loss 1.3015994057059288\n",
            "Epoch: 31 Loss 1.1792543581686914\n",
            "Epoch: 32 Loss 1.071562981698662\n",
            "Epoch: 33 Loss 0.9764041462913156\n",
            "Epoch: 34 Loss 0.8920160578563809\n",
            "Epoch: 35 Loss 0.8169272122904658\n",
            "Epoch: 36 Loss 0.7499017687514424\n",
            "Epoch: 37 Loss 0.6898966571316123\n",
            "Epoch: 38 Loss 0.6360272516030818\n",
            "Epoch: 39 Loss 0.5875399236101657\n",
            "Epoch: 40 Loss 0.5437898540403694\n",
            "Epoch: 41 Loss 0.5042230652179569\n",
            "Epoch: 42 Loss 0.46836174791678786\n",
            "Epoch: 43 Loss 0.43579231738112867\n",
            "Epoch: 44 Loss 0.40615541965235025\n",
            "Epoch: 45 Loss 0.3791378422174603\n",
            "Epoch: 46 Loss 0.35446566937025636\n",
            "Epoch: 47 Loss 0.3318986160447821\n",
            "Epoch: 48 Loss 0.31122529169078916\n",
            "Epoch: 49 Loss 0.2922591947717592\n",
            "Epoch: 50 Loss 0.2748353239148855\n",
            "Epoch: 51 Loss 0.25880735588725656\n",
            "Epoch: 52 Loss 0.2440451881266199\n",
            "Epoch: 53 Loss 0.23043284507002681\n",
            "Epoch: 54 Loss 0.21786675293697044\n",
            "Epoch: 55 Loss 0.20625420339638367\n",
            "Epoch: 56 Loss 0.19551200501155108\n",
            "Epoch: 57 Loss 0.1855654043611139\n",
            "Epoch: 58 Loss 0.1763470777659677\n",
            "Epoch: 59 Loss 0.16779627179494128\n",
            "Epoch: 60 Loss 0.15985809109406546\n",
            "Epoch: 61 Loss 0.15248283668188378\n",
            "Epoch: 62 Loss 0.1456254301010631\n",
            "Epoch: 63 Loss 0.13924495250103064\n",
            "Epoch: 64 Loss 0.133304349379614\n",
            "Epoch: 65 Loss 0.12777242084848695\n",
            "Epoch: 66 Loss 0.12265784555347636\n",
            "Epoch: 67 Loss 0.1181940465758089\n",
            "Epoch: 68 Loss 0.11382619131472893\n",
            "Epoch: 69 Loss 0.10931239757337607\n",
            "Epoch: 70 Loss 0.10527364781592041\n",
            "Epoch: 71 Loss 0.10156650366843678\n",
            "Epoch: 72 Loss 0.09812502851127647\n",
            "Epoch: 73 Loss 0.09491230186540633\n",
            "Epoch: 74 Loss 0.09190796129405499\n",
            "Epoch: 75 Loss 0.08909582439810038\n",
            "Epoch: 76 Loss 0.08646267242147587\n",
            "Epoch: 77 Loss 0.0839970426459331\n",
            "Epoch: 78 Loss 0.08169033625745215\n",
            "Epoch: 79 Loss 0.07953731599263847\n",
            "Epoch: 80 Loss 0.07753895112546161\n",
            "Epoch: 81 Loss 0.07568778881977778\n",
            "Epoch: 82 Loss 0.07394945588021073\n",
            "Epoch: 83 Loss 0.07225085500977002\n",
            "Epoch: 84 Loss 0.07062355977541301\n",
            "Epoch: 85 Loss 0.06908226899395231\n",
            "Epoch: 86 Loss 0.06765289173927158\n",
            "Epoch: 87 Loss 0.06631663507869234\n",
            "Epoch: 88 Loss 0.06506931966578122\n",
            "Epoch: 89 Loss 0.06389947828574805\n",
            "Epoch: 90 Loss 0.06280391779728234\n",
            "Epoch: 91 Loss 0.06177602332900278\n",
            "Epoch: 92 Loss 0.06081493691453943\n",
            "Epoch: 93 Loss 0.05991432228620397\n",
            "Epoch: 94 Loss 0.05907348142500268\n",
            "Epoch: 95 Loss 0.058277040952816606\n",
            "Epoch: 96 Loss 0.05752300934182131\n",
            "Epoch: 97 Loss 0.05679261643672362\n",
            "Epoch: 98 Loss 0.05610079938196577\n",
            "Epoch: 99 Loss 0.05543868940731045\n",
            "Epoch: 100 Loss 0.054820478148030816\n"
          ]
        }
      ]
    },
    {
      "cell_type": "markdown",
      "source": [
        "# 단어간 유사도 측정"
      ],
      "metadata": {
        "id": "XoFaGLibSTEA"
      }
    },
    {
      "cell_type": "code",
      "source": [
        "f = open('vectors.txt', 'w')\n",
        "f.write('{} {}\\n'.format(vocab_size, embedding_dim))\n",
        "vectors = model.get_weights()[0]\n",
        "print(vectors)\n",
        "print(len(vectors))\n",
        "\n",
        "for word ,i in tokenizer.word_index.items():\n",
        "    f.write('{} {} \\n'.format(word, ' '.join(map(str, list(vectors[i-1, :])))))\n",
        "f.close()"
      ],
      "metadata": {
        "colab": {
          "base_uri": "https://localhost:8080/"
        },
        "id": "Eve-zKA-XUxz",
        "outputId": "b8998ca2-3c0d-4ef4-da82-8fcd3aef8089"
      },
      "execution_count": null,
      "outputs": [
        {
          "output_type": "stream",
          "name": "stdout",
          "text": [
            "[[ 0.02239331 -0.02784895 -0.03776829 ...  0.02062914  0.0046667\n",
            "  -0.04062472]\n",
            " [ 0.78402597  0.6952576  -0.7245043  ...  0.41474164  0.78237695\n",
            "   0.6567591 ]\n",
            " [ 0.35348555 -0.37669575 -0.8449763  ...  0.5941341  -0.7113219\n",
            "   0.76445466]\n",
            " ...\n",
            " [ 0.01300542  0.03037458 -0.03929489 ... -0.00562041  0.03490807\n",
            "   0.02061843]\n",
            " [-0.02133011  0.02281726 -0.00458536 ... -0.00362532 -0.0278774\n",
            "  -0.00534822]\n",
            " [ 0.00084813  0.01450985  0.04476381 ... -0.01189276  0.03368572\n",
            "   0.02314443]]\n",
            "48110\n"
          ]
        }
      ]
    },
    {
      "cell_type": "code",
      "source": [
        "w2v = gensim.models.KeyedVectors.load_word2vec_format('./vectors.txt', binary=False)"
      ],
      "metadata": {
        "id": "u2NRUAp0XYMj"
      },
      "execution_count": null,
      "outputs": []
    },
    {
      "cell_type": "code",
      "source": [
        "w2v.most_similar(positive=['유언을'])"
      ],
      "metadata": {
        "colab": {
          "base_uri": "https://localhost:8080/"
        },
        "id": "R230iwhcXakQ",
        "outputId": "f4116a55-056b-47ff-d8c7-1fe908f8802c"
      },
      "execution_count": null,
      "outputs": [
        {
          "output_type": "execute_result",
          "data": {
            "text/plain": [
              "[('끝자락에서', 0.42031756043434143),\n",
              " ('지내라고', 0.41153448820114136),\n",
              " ('입힐까', 0.40539970993995667),\n",
              " ('나빠지고', 0.3810625970363617),\n",
              " ('기특해하셨어', 0.37270402908325195),\n",
              " ('해놓을걸', 0.3449993133544922),\n",
              " ('기사에게', 0.34453779458999634),\n",
              " ('체결에', 0.3435434401035309),\n",
              " ('윗몸일으키기도', 0.34120509028434753),\n",
              " ('진급하고', 0.3402619957923889)]"
            ]
          },
          "metadata": {},
          "execution_count": 132
        }
      ]
    },
    {
      "cell_type": "code",
      "source": [
        "w2v.most_similar(positive=['늙으신'])"
      ],
      "metadata": {
        "colab": {
          "base_uri": "https://localhost:8080/"
        },
        "id": "Wy_53Po9Xbbn",
        "outputId": "cf933671-7ae6-423b-e83f-320b29b6932d"
      },
      "execution_count": null,
      "outputs": [
        {
          "output_type": "execute_result",
          "data": {
            "text/plain": [
              "[('스트레스에', 0.41146546602249146),\n",
              " ('오셨던', 0.41065138578414917),\n",
              " ('제빵', 0.3900495767593384),\n",
              " ('배움을', 0.3895462453365326),\n",
              " ('미련이', 0.3828847110271454),\n",
              " ('외식을', 0.3815886080265045),\n",
              " ('매력적이고', 0.3574623465538025),\n",
              " ('보내줬거든', 0.3535585105419159),\n",
              " ('강아지라고', 0.3496938943862915),\n",
              " ('교대에', 0.3486538529396057)]"
            ]
          },
          "metadata": {},
          "execution_count": 133
        }
      ]
    },
    {
      "cell_type": "code",
      "source": [],
      "metadata": {
        "id": "4fqu4atWXbnX"
      },
      "execution_count": null,
      "outputs": []
    }
  ]
}